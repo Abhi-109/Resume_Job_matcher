{
 "cells": [
  {
   "cell_type": "markdown",
   "id": "8b138e09",
   "metadata": {},
   "source": [
    "#### Lib Imports"
   ]
  },
  {
   "cell_type": "code",
   "execution_count": 22,
   "id": "a87631bc",
   "metadata": {},
   "outputs": [],
   "source": [
    "import pandas as pd"
   ]
  },
  {
   "cell_type": "markdown",
   "id": "7d966594",
   "metadata": {},
   "source": [
    "#### Load all the CSVs"
   ]
  },
  {
   "cell_type": "code",
   "execution_count": 23,
   "id": "31987e38",
   "metadata": {},
   "outputs": [],
   "source": [
    "people = pd.read_csv(r'D:\\Coding\\Resume_matcher_project\\Data\\01_people.csv')\n",
    "abilities = pd.read_csv(r'D:\\Coding\\Resume_matcher_project\\Data\\02_abilities.csv')\n",
    "education = pd.read_csv(r'D:\\Coding\\Resume_matcher_project\\Data\\03_education.csv')\n",
    "experience = pd.read_csv(r'D:\\Coding\\Resume_matcher_project\\Data\\04_experience.csv')\n",
    "person_skills = pd.read_csv(r'D:\\Coding\\Resume_matcher_project\\Data\\05_person_skills.csv')\n",
    "skills = pd.read_csv(r'D:\\Coding\\Resume_matcher_project\\Data\\06_skills.csv')"
   ]
  },
  {
   "cell_type": "markdown",
   "id": "cc93f758",
   "metadata": {},
   "source": [
    "##### Data preview"
   ]
  },
  {
   "cell_type": "code",
   "execution_count": 24,
   "id": "19293db4",
   "metadata": {},
   "outputs": [
    {
     "name": "stdout",
     "output_type": "stream",
     "text": [
      "People: Index(['person_id', 'name', 'email', 'phone', 'linkedin'], dtype='object')\n",
      "Abilities: Index(['person_id', 'ability'], dtype='object')\n",
      "Education: Index(['person_id', 'institution', 'program', 'start_date', 'location'], dtype='object')\n",
      "Experience: Index(['person_id', 'title', 'firm', 'start_date', 'end_date', 'location'], dtype='object')\n",
      "Person Skills: Index(['person_id', 'skill'], dtype='object')\n",
      "Skills: Index(['skill'], dtype='object')\n"
     ]
    }
   ],
   "source": [
    "print(\"People:\", people.columns)\n",
    "print(\"Abilities:\", abilities.columns)\n",
    "print(\"Education:\", education.columns)\n",
    "print(\"Experience:\", experience.columns)\n",
    "print(\"Person Skills:\", person_skills.columns)\n",
    "print(\"Skills:\", skills.columns)\n"
   ]
  },
  {
   "cell_type": "markdown",
   "id": "78aa9065",
   "metadata": {},
   "source": [
    "###  Merging Key Resume Fields"
   ]
  },
  {
   "cell_type": "markdown",
   "id": "940664c6",
   "metadata": {},
   "source": [
    "##### Merge person_skills with skill names"
   ]
  },
  {
   "cell_type": "code",
   "execution_count": 25,
   "id": "56ba705c",
   "metadata": {},
   "outputs": [
    {
     "data": {
      "application/vnd.microsoft.datawrangler.viewer.v0+json": {
       "columns": [
        {
         "name": "index",
         "rawType": "int64",
         "type": "integer"
        },
        {
         "name": "person_id",
         "rawType": "int64",
         "type": "integer"
        },
        {
         "name": "skill",
         "rawType": "object",
         "type": "string"
        }
       ],
       "ref": "284d050d-dfd3-4ea3-ad16-2540ccb891a0",
       "rows": [
        [
         "0",
         "1",
         "Database administration, Database, Ms sql server, Ms sql server 2005, Sql server, Sql server 2005, Sql server 2008, Sql server 2008 r2, Sql server 2012, Sql, Sql queries, Stored procedures, Clustering, Backups, T-sql, Virtualization, R2, Maintenance, Problem solving, Shipping, Database administration, Database, Ms sql server, Ms sql server 2005, Sql server, Sql server 2005, Sql server 2008, Sql server 2008 r2, Sql server 2012, Sql, Sql queries, Stored procedures, Clustering, Backups, T-sql, Virtualization, R2, Maintenance, Problem solving, Shipping"
        ],
        [
         "1",
         "2",
         "sql server management studio, visual studio, sql, microsoft powerpoint, windows xp, microsoft office, assembly language, microsoft windows 7, c, c#, visual basic, java programming, microprocessors, hardware/systems design, digital electronics, system organization, microsoft excel"
        ],
        [
         "2",
         "3",
         "DATABASES, ORACLE (4 years), ORACLE 10G, SQL, LINUX, RMAN (4 years), DATAGUARD (3 years), DATABASES, ORACLE (4 years), ORACLE 10G, SQL, LINUX, RMAN (4 years), DATAGUARD (3 years)"
        ],
        [
         "3",
         "4",
         "Maintain multiple database environments (Redshift, RDS) in AWS, User management and group in Redshift, Design and Developed ETL jobs to extract data from RDS and load it in Redshift Matillion ETL and python script, Experience working within the AWS Big Data Ecosystem (S3, RDS, and Redshift), Expertise in development of various reports and prepare the data for the utilization with tableau, Expertise Query Tuning and Performance optimization and Implementing Work Load management, Managing Amazon Redshift Snapshots using the console, Designed of Conceptual Logical Model and Physical Model, Implemented, supported and managed the database, Kept data integrity and availability, Designed, deployed and monitored database servers, Managed user administration, Migrated different databases in SQL Management, PostgreSQL and Oracle, Migrated and created new database structures, such as tables, indexes and stored procedures from development to the production environment, Created and tuned query, stored procedures, triggers, views and added/changed tables for data load and transformation, and data extraction, Created backup and restored strategy of production, development and test environments, Executed recovery databases and created the documentation to provide the disaster recovery processes, Produced entity relationship & data flow diagrams, database normalization schemata logical to physical database maps, and data table parameters, Installed and managed Database Server, Created and monitored user accounts, user permissions, database extents and table partitions, Implemented robust backup and recovery procedures based on data volatility and application availability requirements, Monitored and optimized system performance using index tuning, disk optimization, and other methods, Monitored the size of the transaction log. Managed databases on multiple disks using Disk Mirroring technology, Collected, stored, managed, and enabled the ability to query the organization's metadata, Ensured data availability using administration tactics, Designed, debugged, implemented, and maintained stored procedures, triggers, and user-defined functions that are stored in the DBMS"
        ],
        [
         "4",
         "5",
         "Scrum, Agile software development, Product backlog grooming, Burnup and burndown charts, Dependency management, Problem solving, Continuous improvement, Production support, Scrum, Agile process, Sprint planning, Backlog grooming, Retrospective meetings, Oracle 10g and 11g administration, RMAN backups, Security patching, Performance tuning, ASM configuration, Auditing, Database monitoring, Grid-based monitoring, Data Guard configuration, Oracle Streams, Materialized views, Oracle Enterprise Manager, Oracle RAC maintenance, Data replication, TOAD"
        ],
        [
         "5",
         "6",
         "Oracle Databases, Database Administration, Database Monitoring, Database Tuning, Database Backup and Recovery, Database Cloning, Database Patching, Database Upgrades, Database Migration, Database Security, SQL Tuning, PL/SQL, Shell Scripting, RMAN, Data Guard, RAC, ASM, GoldenGate, Enterprise Manager, Flashback Technology, Performance Monitoring and Tuning, SQL Tuning Tools, Data Pump, Transportable Tablespaces, Materialized Views, Replication, Oracle Database Administration, Database Cloning, Database Migration, Database Backup and Recovery, Database Patching, Database Upgrades, Database Security, Database Monitoring, Database Tuning, SQL Tuning, RMAN, Data Pump, Transportable Tablespaces, Materialized Views, Streams, Physical Standby Databases, Data Guard, Technical Support, Equipment Installation, Equipment Maintenance, Software Updates, Electrical Safety Testing, Data Entry, Microsoft Excel"
        ],
        [
         "6",
         "7",
         "Oracle Database, Oracle Database Administration, Oracle Exadata, Oracle Enterprise Manager Cloud Control 12c & 13c, Oracle 11gR2 RAC, Linux, Solaris, Installation, Upgrading, Patching, Sizing, Oracle Databases, Oracle Database Objects, Data Migrations, Troubleshooting, Performance & Tuning, Backup & Recovery, Database Integrity, Security, TDE, Transparent Data Encryption, SQA, Software Quality Assurance, Requirement Gathering, Test Cases Development, Oracle EBS, Oracle 9i, Oracle 10g, Oracle 11g, Oracle 12c RAC, Oracle Clusterware, ASM, Grid Installation, RAC Clusterware Administration, Configuration, Patching, SRVCTL, CRSCTL, ASMCMD, CELLCLI, DCLI, RMAN, Recovery Manager, PITR, TSPITR, Export/Import, Flashback Technologies, Disaster Recovery, Archival Processing, Data Protection, Performance Tuning, EXPLAIN PLAN, TKPROF, STATSPACK, SQL TRACE, ORADEBUG, SQL Coding, DDL, DML, V$ Performance Views, SQL Tuning Advisor, SQL Profiles, SQL Monitoring, SQL Access Advisor, SQL Baselines, SQLTXTRACT, Patching, Critical Patch Update, Patch Set Update, One-off Patches, OPatch, Logical Data Model, Physical Data Model, ERwin Modeler, Flashback Recovery, Data Pump, AWR, ASM, ADDM, ASH, Recycle Bin, Grid Monitoring, Cross Platform Migrations, Windows, Linux, Solaris, HP, AIX, Oracle Dataguard, Physical Standby Databases, Disaster Recovery, RMAN, Shell Scripts, ASM File System Migration, RMAN Catalog, RMAN No Catalog, Point-In-Time Recovery, Flashback, Cross Platform Transportable Tablespace, Statspack, AWR, ADDM, TKPROF, Explain Plan, Upgrades, Patches, TAR Support, Cloning, Backups, Recovery Manager, Performance Tuning, Capacity Planning, Documentation, Exadata, Red Hat Linux 6.5, Datapump, EXPDP, IMPDP, RMAN Duplicate, Database Cloning, Backup/Restoration Strategy, Logical Backups, Export/Import Data Pump, Oracle Enterprise Manager 12c, Oracle Management Repository, EMCTL, Incident Rules, Administration Groups, Template Collections, SQL Tuning, PL/SQL Tuning, Oracle Contention, AWR, ADDM, ASH, Secure SCP, Secure FTP, Database Cloning, RMAN, SQL Trace, TKPROF, STATSPACK, Explain Plan, AWR, ADDM, 2 Node RAC, Linux 11g R2, Dataguard, Logical Standby, Physical Standby, RMAN, Datapump Export/Import, Recovery Strategies, Database Crash Recovery, Media/Disk Failure Recovery, Physical Backups, CRON, RMAN, Oracle 11g, Oracle 12C RAC, Golden Gate, ASM, CRS, User Management, Groups, Roles, Profiles, Privileges, SQL Trace, TKPROF, Explain Plan, Integrity Constraints, Database Triggers, Security Patches, Patch Set, Critical Patch Updates, Patch Set Updates, One-off Patch, Transportable Tablespace, Datapump Export/Import, Data Refreshes, RMAN, Oracle 9i, Oracle 10g, Oracle 10gR2 RAC, Oracle 11g, Oracle 12c, Oracle Wallet, Tablespace TDE, V$ Dynamic Performance Views, Alert Log Files, Trace Files, Space Management, Capacity Planning, Disaster Recovery, Database Maintenance, Physical Standby, Failover, Switchover, Data Guard Broker, Materialized Views, Oracle Streams, Oracle 10gR2 Patches"
        ],
        [
         "7",
         "8",
         "Databases, Database Administration, Database Development, DBA, ETL, Oracle Dba, Sql Dba, Sql Server, Ssis"
        ],
        [
         "8",
         "9",
         "MS SQL Server, IBM DB2, Oracle 11g, MySQL, ETL, Replication, SQL Syntax, Query Optimization, Stored Procedures, Index Performance, Data Lakes, Data Warehouses, Triggers, Alerts, SQL Server, Replication, Log Shipping, Performance Alerts, Query Tuning, Schema Design, Backup Routines, Maintenance, Disaster Recovery, SQL Server, Application Health, Team Management, Rollout Operations, VB6 Scripting, Data Trending, Data Validation, Migrations, MySQL, Schema Design, Custom Scripting, Data Consistency, Excel Reporting, VB6, VBA, Project Management, Technical Support, Team Leadership, Liaison, Project Rollout, Technical Support, Order Processing, Warranty, Oracle Database"
        ],
        [
         "9",
         "10",
         "DATABASE, ORACLE, PL/SQL, SQL, ENCRYPTION, RMAN, LINUX, SHELL SCRIPTING, UNIX, UNIX SHELL, ETL, INFORMATICA, BASH, SCRIPTING, SECURITY, CAPACITY PLANNING, PERFORMANCE TUNING, OEM, CLONING, ARCHITECTURE, DBA, Oracle Dba, Sql Server, DATABASE, ORACLE, PL/SQL, SQL, LINUX, UNIX, RMAN, DATAPUMP, DBUA, DATA GUARD, DATABASE, ORACLE, DATAPUMP, DBUA, RMAN, LINUX, WINDOWS, SQL SERVER"
        ],
        [
         "10",
         "11",
         "Database, Database Administrator, Oracle, RAC, ASM, GoldenGate, Dataguard, Datapump, RMAN, AWR, ADDM, SQL Tuning, Oracle 10g, Oracle 11g, AIX, OEM, SQL*Loader, Datapump, RMAN, AWR, ADDM, SQL Tuning, Flashback, Partitioning, VPD, FGA"
        ],
        [
         "11",
         "12",
         "Change management, Data integration, Database, databases, Ddl, Encryption, Etl, Excel, Extract, transform, and load, Integration, Integrator, Linux, Ms sql server, Oracle, performance tuning, Rman, security, Sops, Sql, Sql server, Oracle Dba, Sql Database, DBA, Sql Dba, Database, databases, Ddl, Encryption, Linux, Ms sql server, Oracle, Rman, security, Sql, Sql server, Database, databases, Ddl, Ms sql server, Oracle, Rman, security, Sql, Sql server"
        ],
        [
         "12",
         "13",
         "Oracle Database, Clusterware, ASM, Dataguard Broker, Goldengate, EXPDP/IMPDP, RMAN, Cloud Control, PostgreSQL, pgadmin, psql, pgbouncer, pgtool, pgbackrest, vacuum, SQL, PL/SQL, SQL*Loader, AWS, Oracle 11g, Oracle 12c, Linux, Tablespace Management, RMAN, Dataguard, Active Dataguard, ASM, Goldengate, OEM Grid Control, Performance Tuning, Security Patching"
        ],
        [
         "13",
         "14",
         "Microsoft SQL development, SQL logical and physical database design, Database implementation and maintenance, Database consolidation, PHP, SQL, FileMaker, Custom database solution, Web development in HTML and CSS, Hardware troubleshooting and replacement, Inventory system management, Hardware installation and reimaging, Front desk duties, Doctor verification, Paperwork organization"
        ],
        [
         "14",
         "15",
         "SQL Server 2012, 2014 and 2016, Database Mirroring, AlwaysOn, Fail-Over Cluster, SQL/T-SQL, Stored-Procedures, Triggers, Database Monitoring, Performance Tuning, Index Management, Database Automation, Data Modeling, Index/Constraints, Triggers, Stored Procedure, Security Management, Database Migration, Backup/Recovery, SQL Server 2008 R2, 2012 and 2014, Database Automation, SQL/T-SQL, Stored Procedures, Triggers, Functions, Database Backups, Database Restore, Replication, Security Management, Database Migration, Database Mirroring, Performance Tuning, Reporting Services"
        ],
        [
         "15",
         "16",
         "SQL Server 2016, SQL Server 2014, SQL Server 2012, SQL Server 2008 R2, Clustering, Mirroring, Replication, Backup/Recovery, Security, Agent Jobs, Alerts, DB Mail, Notification, Azure, JIRA, Patching, Upgrade, Migration, Database Objects, Performance Tuning, DBCC, DMV, Maintenance Plans, Query Optimization, SQL Server 2000, SQL Server 2005, SQL Server 2008, SQL Server 2008 R2, Backup/Restore, Point-in-Time Recovery, Replication, Log Shipping, Database Mirroring, Patching, Performance Tuning, Database Objects, Backup/Restore, Job Scheduling, SSRS, SSIS, Data Loading, Data Transformation"
        ],
        [
         "16",
         "17",
         "SQL Server Database Administration, Performance Analysis, Database Design, Database Development, Database Support, Replication, Cluster Server Environments, SQL Server, T-SQL, Database Development, Business Intelligence, Integration, Analysis, Reporting, ETL, SSIS, SSAS, SSRS, Power BI, Image Editing, Graphic Design, Adobe, Microsoft Office"
        ],
        [
         "17",
         "18",
         "Install and configure new Microsoft SQL Server instances, Review, analyze, and evaluate business systems and user needs, Database design, installations, conversions, Database backup and recovery procedures, Database access security and integrity, Physical data storage design and management, Database Performance, Maintenance and Development, SQL Server service packs and updates configuration, SQL Security settings configuration, Database backup & recovery & DR planning, SQL Server Agent jobs and maintenance plans creation, modification, and optimization, Query Analyzer and Profiler for tuning queries, Backup plan and disaster recovery strategies design and implementation, Databases, tables, views, store procedures and triggers design and creation, Database performance troubleshooting and optimization, SQL Server Agent jobs review and corrective actions, Database Security management, Database monitoring and performance tuning, Database administration for SQL Server databases, Database security management, Database monitoring tools usage, Always on, clustered and mirrored environments experience, SQL Statements, Instance Parameters, and Data Storage tuning and optimization, Database systems patching and service packs installation, SQL Server Constraints utilization, T-SQL Stored Procedures, Triggers, Tables, User Defined Functions, Views and Indexes, Troubleshooting and user support, Upgrades and patches installation, User training, Technical documentation writing, Meetings with ERP team, development, QA, and End Users, Liaison between business and technical resources, Physical database model creation from logical database model, Testing to ensure systems' functionality, Ticketing queue and JIRA management, Ad-hoc queries creation using T-SQL, Complex T-SQL queries creation, 24x7 on call support, Requirement capturing and modeling, Testing on SQL modules"
        ],
        [
         "18",
         "19",
         "SSRS, SSIS, PowerShell, SQL, Database Optimization, Query Tuning, Database Administration, SSRS, PowerShell, SQL, Crystal Reports, Automation, System Maintenance, SSIS, SSRS, SQL, PowerShell, Data Warehouse, Backup and Recovery, Excel, Access, SQL, Data Manipulation, Data Cleansing, Data Validation, Citrix, Relativity, Remote Desktop, Active Directory, Application Support, Mac OS, Windows OS, Hardware Deployment, Troubleshooting"
        ],
        [
         "19",
         "20",
         "Windows 7 and 10, Desktop applications including Office 2013/2016/2019, Remote Desktop, 3D/CAD installation/configuration, Epicor Prophet 21, EDI setup and monitoring, Sonicwall Firewalls, Dell & Meraki Routers, Switches and wireless access points, VMware ESXi Servers, Active Exchange 2016, SQL Server 2016, SharePoint 2013, Domain management, User accounts, Authentication and authorization using Active Directory, Organizational Units and Global Policies, Label Printing software/printers, Handheld scanners running Windows CE, iWarehouse, EDI connections, Mapforce, Business Intelligence reports, SQL, SSRS, Crystal Reports, SSIS packages, Exchange mailbox database migration, vCenter, SQL server performance troubleshooting, PledgeMaker/Clearview, Blackbuad/Illuminate, CRM database software, SQL/SQL Plus, SQL Developer, Oracle 12c database, Excel, Pivot tables, Vlookup, Jaspersoft, SQL Loader, SQL scripts, Procedures, Analysis reports, Functions and packages, Website testing, Network support, IT support, Electronic Data Interchange (EDI, X12 Standard), Value Added Network (VAN) processes, EDI relationships, EDI document translation, Address tables, EDI production systems and operations, EDI message tracking, ERP system, Windows network & infrastructure, Active Directory, DHCP, DNS, Windows SQL Server, Windows Terminal Server, Crystal Reports, SQL, Help desk support, Software training, System upgrades, Adobe Photoshop, Adobe Illustrator, SFTP, ETL/data extraction, Visual Studio, SSIS packages, FedEx Ship Manager, UPS WorldShip, SQL database administration, SQL scripts, Queries, Reports, Procedures, Projects, Table creation, Troubleshooting, Network setup, Equipment shipping, IP address configuration, Firmware upgrades, Controllers, Wireless access points, Antennas, NIC, UPS, VLANs, TFTP servers, Tera Term, Switch configuration, Equipment tracking, MS Excel, MS Access, Project management, Microbiology department, Database maintenance, Data entry, Revisions and corrections, Liaison between Microbiology and Quality Assurance (QA)/Validation departments, Standard Operating Procedures (SOPs), Out of spec test results, Noncompliance report (NCR), SQL queries, Data archiving"
        ],
        [
         "20",
         "21",
         "Database, Oracle, Oracle 10g, PL/SQL, SQL, RMAN, HP-UX, Unix, Solaris, Linux, Shell scripting, VPN, Cisco, RDBMS, Oracle Database, RAC, Database, Oracle, Oracle 10g, PL/SQL, SQL, RMAN, Unix, Linux, Shell scripting, RDBMS, Oracle Database, RAC"
        ],
        [
         "21",
         "22",
         "Oracle 10g, Oracle 11g, Oracle 12c, Oracle Enterprise Manager (OEM), Stored Procedures, Triggers, MySQL, SQL Servers, Data Pump, SQL*Loader, RMAN, Relational Database Management Systems (RDBMS), Optimizer Statistics, Explain Plan, ASH, AWR, ADDM, TOAD, Oracle Clusterware, Automatic Storage Management (ASM), RAC, Oracle 10g, Oracle 11g, Oracle 12c, SQL*PLUS, SQL Developer, Enterprise Manager Express 12c, OEM 12 cloud control, OUI, DBCA, DBUA, Explain Plan, Tkprof, Stats Pack, SQL Trace, RMAN, RAC, ASM, Data Guard, Tables, Views, Synonyms, Sequences, Triggers"
        ],
        [
         "22",
         "23",
         "Windows 8, Windows 10, MS Office Suite, SL, I3, MetaViewer, Visual Basic for Applications (VBA), Windows 8, Windows 10, iOS, MS Office Suite, Visual Basic for Applications (VBA), Windows 8, Windows 10, iOS, MSSQL, Crystal Reports, Visual CUT, Webalo, MS Office Suite, SQL scripting, Visual Basic for Applications (VBA), Windows 7, Windows 8, Sonic Wall (TZ, MX), Anti-SpyWare, AVG, Norton Product Suite, Oracle 11G, MySQL, MSSQL, Windows Firewall, MS Office Suite, SQL scripting"
        ],
        [
         "23",
         "24",
         "DATABASE, DATABASES, ORACLE, SQL, RMAN, LINUX, HP-UX, UNIX, UX, SOLARIS, OEM, RED HAT, SUN, ACTIVE DIRECTORY, Amazon Elastic Block Storage, BEA, BEA WEBLOGIC, EBS, EMC, LOADER, MIDDLEWARE, WEBLOGIC, AIX, ODI, DATABASE, DATABASES, ORACLE, SQL, RMAN, LINUX, HP-UX, UNIX, UX, SOLARIS, OEM, RED HAT, SUN, ACTIVE DIRECTORY, Amazon Elastic Block Storage, BEA, BEA WEBLOGIC, EBS, EMC, LOADER, MIDDLEWARE, WEBLOGIC, AIX, ODI, DATABASE, DATABASES, ORACLE, SQL, RMAN, LINUX, HP-UX, UNIX, UX, SOLARIS, OEM, RED HAT, SUN, ACTIVE DIRECTORY, Amazon Elastic Block Storage, BEA, BEA WEBLOGIC, EBS, EMC, LOADER, MIDDLEWARE, WEBLOGIC, AIX, ODI, DATABASE, DATABASES, ORACLE, SQL, RMAN, LINUX, HP-UX, UNIX, UX, SOLARIS, OEM, RED HAT, SUN, ACTIVE DIRECTORY, Amazon Elastic Block Storage, BEA, BEA WEBLOGIC, EBS, EMC, LOADER, MIDDLEWARE, WEBLOGIC, AIX, ODI"
        ],
        [
         "24",
         "25",
         "Oracle 9i, 10g, 11g Administration, Database security, Backup and recovery procedures, Database integrity, Prioritizing workload, Scheduling follow-ups, Problem solving, Detail specificity, Writing and organizational skills, Team-oriented approach, Backup and recovery strategy, Physical backup, Logical backup using EXPORT/IMPORT, Disaster recovery, Database health checkup, Oracle Transparent Data Encryption, Oracle flashback technology, Oracle Critical Patch Update (CPU) patches, RMAN duplicate command, RMAN database recoveries and migration, Oracle 10g/11g software installation and configuration, Database upgrades, DBA maintenance tasks, Database design tasks, Backups and performance monitoring scripts, Migration process documentation, Database creation, Monitors, Load scripts, Table, view and sequence modifications, User and privilege management, Data export and import, Tablespace and object storage management, Oracle instance creation, Archive logs and redo logs management, Database creation, Oracle 10g/11g installation and upgrading"
        ],
        [
         "25",
         "26",
         "SQL Server database systems, AGILE methodology, Scrum process, TFS (Team Foundation Server), Database security patches, Cumulative updates, Service packs, Security best practices, Disaster Recovery plan, AWS, Azure SQL Database, Cloud Azure Amazon, Database and code standards, Naming conventions, Database and application monitoring, SQL clustering, Always On, Database Mirroring, Replication, Active-Active, Active-Passive Cluster, Query tuning, DBCC Commands, DMVs, User permissions, Space issues, Database Refresh, FileMaker Server, FileMaker Pro Databases, Crystal Reports, Database installation, Configuration, Monitoring, Maintenance, Database clustering, Failover, Database backup and recovery, Root cause analysis, Disaster Recovery Plan, Disk storage requirements, Data activities monitoring, Application level tuning, Acceptance testing, Change control procedures, Security procedures, MS SQL Cluster, Database instances management, Log Shipping, Replication, SQL Server Databases"
        ],
        [
         "26",
         "27",
         "Oracle 10g, Oracle 11g, Oracle 12c, MySQL, MS SQL Server, Backup & Recovery, Security Implementation, Upgrades, Patching, Migration, Database Design, Monitoring & Tuning, Replication, Linux Red Hat Enterprise, Authentication, Authorization, and Auditing, RMAN, DATAPUMP, SQL/Oracle server installations, Database design, Backups, TDE encryption, DBMS_Scheduler, GOLDEN GATE, SAP reporting, Remedy, Workflow, Access control, Report creation, User management, Communication"
        ],
        [
         "27",
         "28",
         "Excel"
        ],
        [
         "28",
         "29",
         "MS SQL SERVER, SQL SERVER, SQL, CLUSTERING, DISASTER RECOVERY, C++, PERFORMANCE TUNING, SHIPPING, AUTOCAD, MICROSOFT OFFICE, Maintained the monitoring of all data communications systems, Set up computers and install software, Entered entire support activities and client details in tracking system, Effectively and clearly communicated with customers in their language, Responded to customer email and telephone IT concerns and issues, Analyzed customer computer requirements to meet user needs, Continually updated personal knowledge of computing hardware operating systems and software, Maintained confidentiality and discretion when working with passwords or sensitive materials, Imaged new PCs for clients"
        ],
        [
         "29",
         "30",
         "Oracle Database 9i, 10g, 11g and 12c Administration, RHEL 4/6, SUN Solaris, AIX, SUSE and Windows Platforms, RMAN utility and Logical Backups using traditional Export/Import and Data Pump, Oracle Data Guard, Real Application Cluster(RAC) and ASM (Automatic Storage Management), STATSPACK, AWR, ADDM and Explain Plan Reports for performance tuning, Oracle Enterprise Manager Cloud Control 12c, Flashback recovery techniques, Tables, Indexes, Extent and User management, LISTENER and TNSNAMES in network applications, File system, Tablespaces (datafiles) usage monitoring, Archival Space Monitoring and regulating Archival growth, DBLINKs and Materialized views, Oracle Exadata Database x6 Machines (Half Rack), Oracle Golden Gate online sync and Replication monitoring, Primary Development DBA for a set of applications/databases, Providing advice to Software Engineers on the effective use of Oracle features, Performance tuning using Statspack, AWR, ADDM, ASH, Explain Plan, Oradebug, tkprof, Index recommendations, SQL profile creation, One-off patches and PSU patches management, Schema/table logical backups using Data Pump, Schema comparison reports between environments, Resource Manager setup for CPU & I/O bound databases, Large sized data warehouse databases (close to 100 Terabytes) on Exadata boxes, Oracle 11gR2 databases with RAC setup (3 Node cluster) on Red Hat Linux, Oracle security (CPU and PSU) patches and bug fix patches application, Database Backup strategies using RMAN and Database recovery, High availability solutions (DR) using Oracle Data Guard, Database reorganization for performance, disk space reclamation and uptime, Production, Development and Testing Database management and support, Database objects creation (tables, indexes, constraints, synonyms, views, packages, procedures, functions), Privileges and roles granting to application user IDs, Tablespace usage monitoring and growth analysis, datafiles resizing, Alertlogs, ASM logs, /var/log/messages monitoring for incidents, ORA-01555(SNAPSHOT TOO OLD) error resolution, AWR, ADDM, ASH reports generation for incident analysis, Data Pump for data transfer between databases, SCP or FTP/SFTP for dump files transfer, Session tracing (10046,10053) and hanganalyze, systemstate, Oracle Support engagement for database related issues, Statistics collection for tables with STALE status, Database Backup Reports monitoring and manual backup triggering, Production, Development and Test Databases management and support, Tablespace Usage, ASM Usage, Archival Usage, Database & Instance connectivity monitoring, Database Backup Report monitoring and manual backup triggering, Database security patches (CPU & PSU) application and database upgrades, Physical standby databases Log Shipping monitoring and archive gaps application, Partitioned tables/indexes maintenance and future partitions addition, Database alertlogs monitoring for incidents, Tablespace usage monitoring and growth analysis, datafiles resizing, AWR, ADDM, ASH and Explain plan reports generation for incident analysis, Application requests handling (password reset, account unlock, profile change, Explain Plan), ORA errors resolution by investigating alertlogs and trace files, Manual Cloning of databases from the latest backup, Incidents status tracking and SLA meeting"
        ],
        [
         "30",
         "31",
         "SQL, PLSQL, Linux, Unix, MySQL, MSSQL, Database Administration, Database Development, Performance Management, SQL Tuning, DBA, Sql Dba, Oracle Dba, Sql Server, ETL, SQL, PLSQL, Linux, Unix, MySQL, MSSQL, Database Administration, Database Development, Performance Management, SQL Tuning, DBA, Sql Dba, Oracle Dba, Sql Server, ETL, SQL, PLSQL, Linux, Unix, MySQL, MSSQL, Database Administration, Database Development, Performance Management, SQL Tuning, DBA, Sql Dba, Oracle Dba, Sql Server, ETL, SQL, PLSQL, Linux, Unix, MySQL, MSSQL, Database Administration, Database Development, Performance Management, SQL Tuning, DBA, Sql Dba, Oracle Dba, Sql Server, ETL, SQL, PLSQL, Linux, Unix, MySQL, MSSQL, Database Administration, Database Development, Performance Management, SQL Tuning, DBA, Sql Dba, Oracle Dba, Sql Server, ETL"
        ],
        [
         "31",
         "32",
         "SQL Server 2008 through SQL Server 2016 including Azure, Reconfigure SQL Server farm from ground-up, Set standards for configuration, use, and care of all SQL Server instances, Custom write centralized backup solution using T-SQL only, Design and write custom jobs for daily, weekly, monthly, etc. maintenance of databases, Tune Microsoft Dynamics (Navision) for indexes and housekeeping and system/application response, Scale all systems with tempdb files and monitor response closely for each application, Work with development staff to bring system(s) to best-practice, SQL Server 2008 through Azure, Reconfigure SQL Server farm from ground-up, Set standards for configuration, use, and care of all SQL Server and Oracle instances, Custom write centralized backup solution using T-SQL only, Design and write custom jobs for daily, weekly, monthly, etc. maintenance of databases, Tune Microsoft Dynamics (Navision) for indexes and housekeeping and system/application response, Scale all systems with tempdb files and monitor response closely for each application, Work to better align how data is coming from the HLT stores (500) to the home-office and re-architect how that data is imported into the central database, Work with development staff to bring system(s) to best-practice, Architect solutions for moving forward with communication from the stores, Architect solution to import data from outside sources to centralized database, Reconfigure SQL Server farm from ground-up, Set standards for configuration, use, and care of all SQL Server and Oracle instances, Custom write centralized backup solution using T-SQL only, Design and write custom jobs for daily, weekly, monthly, etc. maintenance of databases, Tune Microsoft Dynamics (AX v4, AX v2012) for indexes and housekeeping and system/application response, Scale all systems with tempdb files and monitor response closely for each application, Mentor developers on best-practices using SQL Server and AX, Deep investigation in performance issues with AX v4 for stop-gap until AX v2012 put into place, Assemble presentations for meetings and MS Project plans, Create documentation for all processes, programs, etc., Introduce data dictionary to organization and start building master data management, SQL Server extended properties used to store data dictionary facts, Provide 24x7 support to a cloud computing company in the retail construction space, Build all co-located SQL Server instances from scratch, This included alerts, job creation, and optimization of indexes, disaster recovery, and tuning for all instances for two co-located SQL Server farms, Architect standard configuration for databases as well as mentor staff on data architecture best-practices"
        ],
        [
         "32",
         "33",
         "Oracle, Database, DBA, RMAN, Datapump, SQL, PL/SQL, Linux, AWS, RDS, EC2, Backup, Recovery, Cloning, Patching, Monitoring, Performance Tuning, Data Guard, Golden Gate, SQL Tuning, Oracle, Database, DBA, RMAN, Datapump, SQL, PL/SQL, Linux, Backup, Recovery, Cloning, Patching, Monitoring, Performance Tuning, Data Guard, Golden Gate, SQL Tuning"
        ],
        [
         "33",
         "34",
         "SQL Server Installation and upgrade, Database Migration, Database Architecture, SQL Server Security, SQL Server Backup and Restore, SQL Server High Availability, SQL Server Performance Tuning, Hardware and software troubleshooting, SSRS, SSIS, Database Management, SQL Server 2008, 2008R2, 2012, Database Maintenance, High Availability, Security Management, Query Optimization, Troubleshooting"
        ],
        [
         "34",
         "35",
         "Multi-project analysis, Agile scrum methodology, Daily standups, Sprint planning, Burndown and velocity charts, Retrospectives, Technical resource planning, Database analysis, Technical recommendations, Legacy application(s) conversion to web, Requirements, Module definition, Scope, Resources, Percent completed, Time to completion, Project plan, Weekly status report, Executive and stakeholder report, Resource analysis tool, Daily standup, Sprint planning, Backlog re-organization, Backlog re-prioritization, Retrospectives, Cross team associate scrum master, Technical product development, Incident response database rewrite, Datacenter database migration, Physical to virtual database migrations, Microsoft SQL Server administration, Product development, Report writing, Stored procedures, Triggers, Views, System design, Troubleshooting, Backup & recovery, Log shipping & mirroring, High availability, Replication, Cluster setup & balancing, Performance tuning, Upgrades, Patch management, Version migrations, Optimization, Datacenter migrations, 24x7 support, Microsoft SQL Server administration, Profiling, Version migrations, Security audits, Backup & recovery, Index performance analysis, 24x7 support"
        ],
        [
         "35",
         "36",
         "DATABASE, ORACLE, SQL, UNIX, E-BUSINESS, ORACLE, SQL"
        ],
        [
         "36",
         "37",
         "Create database tables and Views, Create Clustered and non-clustered indexes, T-SQL in Creating Procedures and triggers, Basic NoSQL querying, Plan, install, build, manage, support, configure and test Database server infrastructure components and connectivity, Deploy new SQL Server environments, Maintain server security, Implement SQL server performance Tuning, Installed and configured 4 node SQL Server 2014 Ent cluster, Manages multiple nodes of Clustered and Stand-alone SQL server 2014/2012/2008 R2, Monitor and troubleshoot backups, scheduled jobs, and monitor systems and processes for performance related issues, Provides support in planned DR solution testing, Interface directly with end user'1s and other IT groups, Perform vulnerability and remediation for all SQL Server database server, Participates in meetings impacting databases physical architectural design, Apply Microsoft Security Patches, Utilized Microsoft SQL Server Reporting Services (SSRS) and Integration Services (SSIS) platform (ETL), Implemented Procedures for performance optimization and development of MYSQL database applications, Develop Stored procedures, Functions and triggers for MYSQL database needs, Implement SQL server performance Tuning, Installing and configuring MS SQL Server 2005\\2008R2 fail-over Cluster and its applicable Service Packs, Setup, configure, administer and maintained MYSQL Server databases, Implement and manage MS SQL Cluster (Active/Passive & Active/Active), Multi Node Cluster up to 8 Node, Upgrade SQL Server database environment from SQL Server 2000 -> 2005-> 2008->2012>2014, Deployed SSIS projects. Schemas and configured Report Server to generate reports through SSRS, Scheduling and managing SQL Server database backup jobs, Extract, Transform and Load millions of clinical data into ETL database using SSIS, SQL Server jobs performance and impact on normal operations, Developing and implementing DBA maintenance plan, Participated in meetings impacting databases physical architectural design, Assist web Application developers with database related issues, Maintain Relational Database infrastructure, software, upgrades, and patches, Monitor and provide response for all database systems, Create database tables and Views in both Production and Test environments, Develop Stored procedures using T-SQL, using T-SQL in creating triggers, Functions and triggers for database needs, Hardening Oracle environments per company database Security auditing recommendations, Apply CPU Patches to Oracle E-Business Suite Databases and Applications, Responsible for working with application developers, systems administrators and management to ensure that any new product usage or release upgrade takes place with minimal impact on test and production environments, Support and managed databases in High Availability environments, Migration of several databases (size 500GB -7.2TB) and Applications to new servers using RMAN, Evaluates new releases of Oracle and its tools, and third party products to ensure that the site is running the products that are most appropriate, J2EE application support and support"
        ],
        [
         "37",
         "38",
         "Software Development lifecycle, Business analysis, Waterfall and Agile (Scrum) methodologies, Requirements gathering, Analysis, Design, Implementation, Testing, Deployment, Facilitation, Project management, Stakeholder negotiation, Conflict resolution, Cross-functional coordination, Verbal and written communication, Analytics, Problem-solving, Documentation, Finance, Auto, Retail, Metrics, Process improvements, Cost saving, Risk tracking, Vendor coordination, Onsite and offshore streamlining, People management, PL/SQL, Oracle database, Application support, Database backup, Health checks, Web applications, IIS, ASP.Net, Debugging, Load balancer, Database support, Upgrades, Patches, Space management, SLA, Documentation, Shared infrastructure, Production support, ITSM, OTRS, CA Service Desk, IIS, Apache, Standalone applications, Server capabilities, Chatbots, Bold chat, LogMeIn, Notifications, Incident management, Change management, SOP, Best practices, Business requirements, Priorities, Options, Risks, Costs, SQL Server, CRM, Requirement elaboration, Business solutions, IT coordination, Systems testing, Application deployment, Training, Support, Compliance, Roadmaps, Dashboards, Inventory, Metrics, Sprints, Use cases, Workflows, Screen mock-ups, Conversion requirements, Stakeholder interaction, Improvement opportunities, Design review, Developer guidance, Enhancement prioritization, UI features, Resource management, Test scenario, UAT, Chatbot support, Bold chat, LogMeIn, Requirements gathering, Document analysis, Workshops, Process descriptions, Use cases, Scenarios, Business analysis, Workflow analysis, Business requirements, Functional design, Implementation, Testing, Stakeholder liaison, Agile methodology, Sprints, SOPs, Specifications, Reporting, SME interaction, User needs, Functional requirements, Non-functional requirements, Analysis workshops, UAT, Functional testing, Troubleshooting, System upgrades, Workflow charts, Reporting tools, QA support, Development support, UAT facilitation, Gap analysis, BA artifacts, Product/project releases, Agile collaboration, Retail analytics, Quantitative analysis, Qualitative analysis, Customer behavior, Retail trends, SQL Server, Ticketing application, Merchandise planning, Demand forecasting, Inventory management, Product performance, Defect tracking, Incident tracking, Feasibility assessment, Project proposals, Business cases, Functional requirements, Feature design, Business analysis methods, Impact analysis, Risk assessment, Technical dependencies, Benefit validation, Test planning, UAT, Requirement gathering, Business standards, Security requirements, SLA, SQL queries, Root cause analysis, Database integrity, Code quality, Risk mitigation, Oracle database support, Oracle 10g/11g RAC, Database conversion, Backups, Recoveries, RMAN, Hot/cold backups, Database upgrades, Materialized views, SQL*Loader, External tables, Data loading, Partitioning, VERITAS Netback up, OEM monitoring, Cloning, Refreshing, Patching, Security, Proactive monitoring, Incident management, Problem management, Change management, Production support, Problem resolution, SLA, User account management, Index management, Backups, Tablespace management, Monitoring, Space management, ORA-error resolution, Job scheduling, Performance analysis, AWR, ADDM, Data file management, Health checks, Documentation"
        ],
        [
         "38",
         "39",
         "AIX, LINUX, SOLARIS, Oracle Dba, DBA, AIX, LINUX, SOLARIS, Oracle Dba, DBA"
        ],
        [
         "39",
         "40",
         "Tuning, AWR, ADDM, ASH, Trace Analyzer, OEM 12c, RAC, OCR, Golden Gate, TDE, Solaris 11, Data Guard, Partitioning, RMAN, EXPDP/IMPDP, SQL Tuning, ASM, Statspack/AWR, Explain Plan, Oracle 11g RAC, ASM, Data Guard, Golden Gate, Performance Tuning, Backup and Recovery, TDE, Partitioning, Data Pump, TOAD, AWR, ADDM, Explain Plan"
        ],
        [
         "40",
         "41",
         "SQL Server, Database Design, Database Maintenance, Capacity Planning, IDERA SQL Diagnostic Manager, SQL Server 2014, SQL Server 2016, Windows Server 2012, Linked Server Configuration, Database Backup and Restore, Database Migration, Performance Tuning, Database Troubleshooting, SQL Server Installation, Database Backup and Restore, DBCC Statements, Database Maintenance Plans, Database Security, Database Mirroring, Database Mail, SQL Server Agent, SQL Server Event Alerts, Index Management, Database Migration, SQL Server Patching, SQL Server Integration Services, SQL Server Reporting Services, PowerShell Scripting, SQL Server 2008 R2 Administration, Backup and Recovery Strategies, SQL Server Performance Optimization, SQL Server Installation and Upgrades, Database Security, SQL Server Troubleshooting"
        ],
        [
         "41",
         "42",
         "Database, SQL Server, Replication, SQL, Clustering, MySQL, Sql Dba"
        ],
        [
         "42",
         "43",
         "SQL Server 2016/2014/2012/2008R2/2008/2005, SQL Server development, Stored Procedures/Transact-SQL coding, SSIS/SSRS/SSAS, OLTP and OLAP, SQL Server Upgrade Advisor, DTS Package Migration Wizard, Import Export Data, DTS Packages, Bulk Insert, BCP and SSIS, Database Mirroring, Log Shipping, Transactional replication, Merge, Query Optimization, Database Consistency Checks, DBCC Utilities, Linked Servers, Performance tuning, DMV'S, DMF'S, Locks, Dead Locks, Isolation Level, Concurrency Effects, SQL Server 2012 Always ON availability groups, Replication, Database Snapshot, Log shipping, Database Mirroring, Notification service, Alerts, Jobs, Maintenance plans, Enterprise Manager, Management Studio, Query Analyzer, SQL Server Profiler, SQL Server Agent, DTA and Business Intelligent Studio, Maintenance plans, Auditing plans, Backup/recovery plans, Analyzing query plans, Extended Stored Procedures, Indexes, Locks, Deadlocks, Replication Models, SQL Server clustering, Database Backup, Recovery solutions, Performance bottlenecks, CPU, I/O, Memory usage, Tables, Views, Normalization, Indexes, Stored Procedures, Cursors, Triggers, SQL joins, T-SQL statements, SQL Profiler, Index Tuning Wizard, Windows Performance Monitor, Policy Based Management, CDC, Data Compression, Resource Governor, Performance Data Collector, Transparent Data Encryption (TDE), TFS, Windows Native Clustering, SQL Clustering, SQL Always ON technology, MS Azure Database, SQL PDW (Analytic Platform System), PerfMon counters, Server App Tools, Packages Select, Service Now, PowerShell Scripting, DBArtisan, Netapp, Veritas NetBackup, EMC Avamar, Database upgrades, Server performance tuning, Query optimization, Stored procedures, Triggers, Transact-SQL scripts, Replication, Server performance optimization, Tuning, Building indexes, DBCC, Database backups, Restores, DTS, SOX regulations, Microsoft Access, SQL Server, SSIS packages, T-SQL scripts, Index Maintenance, Index tuning, Rebuild, Reorganizing, Index fragmentation, DBCC checks, Update Statistics, Data Integrity, SQL Profiler, Index Tuning Wizard, Windows Performance Monitor, Windows Server 2008, Windows Server 2012, Windows Native Clustering, SQL Clustering, SQL Always ON technology, SQL Server 2012, SQL Server 2014, MS Azure Database, SQL PDW (Analytic Platform System), PerfMon counters, Server App Tools, Packages Select, Service Now, PowerShell Scripting, Avamar, SQL Native backups, Idera SQLSafe, SQL Server performance tuning, Optimization, Proactive monitoring, IDERA SQLDm, ScaleArc, Disaster recovery, Always On Availability Group, SQL transactional replications, Backup repository server, Encrypted backups, Restores, IDERA SQLSafe, SQL 2012 servers to SQL 2016, Database migrations to AWS, SSRS server migrations, Oracle 10g /11g/9i Databases, Siebel, Cognos, Micro focus Cobol, RAC (real application cluster) clustering server, OEM Grid, High Availability, Data Guard, Web service applications (WebSphere and WebLogic), IBM Rational products, Point in time recovery, DBArtisan, Transact-SQL Query, DDL-Data definition language, DML-Data manipulation language, Sub queries, Joins, Linked servers, Database backup, Archival solutions, Netapp, Veritas NetBackup, EMC Avamar, High availability, Disaster recovery solutions, Wrappers, Smart Re-indexing features, DB maintenance Routines, Database audits, Enterprise compliance, SQL Servers, Stand Alone, Cluster Environments, Virtual, Bare Metal, SQL 2008 to 2014, SSAS, SSIS, SSRS, Data Domain, NetBackup, Command line scripts, 3rd party Plugin Backups, Replication Models, Snapshot, Transactional, SQL Server 2008 Management Studio (SSMS), Oracle, DB2, Log shipping, Database Mirroring, Transactional replication, Patches, Service packs, MS SQL Server, Clustered, Standalone environments, Linked servers, SQL Server 2005, SQL Server 2008, SQL Server 2008R2, SQL Server 2012, SQL Server 2014, SQL Server 2016, Database Vulnerabilities, Enterprise Security Manager (ESM), Database Cloning, Netapp snap manager, Database performance, Bottlenecks, Optimization, Data Center Migration, SQL Server 2008 to SQL Server 2012, SQL Server 2014, SQL Server 2016, Backup strategy, Data archiving, OPTIM, Data life cycle management, Data retention procedures, Backup-restore, Attach and detach, Database refreshes, Development, QA, Stage environments, Always ON, Transactional replication, DB Mirroring, Log shipping, SQL Server 2014/2012, Smart Re-indexing features, DB maintenance Routines, Database audits, Enterprise compliance, SQL Servers, Stand Alone, Cluster Environments, Virtual, Bare Metal, SQL 2008 to 2014, SSAS, SSIS, SSRS, Data Domain, NetBackup, Command line scripts, 3rd party Plugin Backups, Replication Models, Snapshot, Transactional, SQL Server 2008 Management Studio (SSMS), Database optimization, Performance monitoring, Index tuning, Jobs, Alerts, Monthly maintenance, Weekly maintenance, SQL Server 2008 Management Studio (SSMS), SSIS, Oracle, DB2, Log shipping, Database Mirroring, Transactional replication, SQL server 2014/2012/2008 and 2005, Service Packs/Hot fixes, SQL server installation, Production, Test, Staging, Databases, Patch updates, Standalone, Cluster Environments, Physical database designing, Creation, Backups, Recovery, DR-Failover, Query-tuning, SQL Logins, Roles, Authentication Modes, Security Policies, Schemas, Tables, Clustered Indexes, Non-Clustered Indexes, Views, Functions, Stored Procedures, SQL Server 2012/2014/2016 Database Development, Administration, Service packs, Hot fixes, Cumulative updates, Migrations, 2005 to 2012, 2008 to 2012, In-place, Side-by-Side Processes, Requirement gathering, Stakeholders, Business teams, High availability systems, Clustering, Database mirroring, Log shipping, Clustered, VMware environment, Job execution, Correction actions, Deployment, Configuration, Troubleshooting, Debugging, Pre/Post Deployments, Data Loads activities, EMC, Microsoft, Database issues, SQL Server/ Database level Security, Auditing, Data Encryption (TDE), HIPAA requirements, Logins, Database users, Roles, Permissions, Security policy, Data Masking, Database Security Hardening, Scheduled jobs, Monitoring, Troubleshooting, Task automation, Power shell script, SQL agents, DDL triggers, Auditing, DDL change, Point in time recovery, Production databases, SSIS (ETL), MDX developing, Migrating share point, T-SQL, Stored procedures, Data partitioning, Database tables, Indexes, Performance Monitor, SQL server performance, Execution Plan, Database engine tuning advisor, Production database software upgrade cycles"
        ],
        [
         "43",
         "44",
         "databases, HTML, Informatica, Linux, MS SQL SERVER, DBA, Oracle Database, Sql Server, Sql Database"
        ],
        [
         "44",
         "45",
         "food preparation, food regulations, employee training, food preparation, food regulations, documentation, employee training, aircraft repair, quality control"
        ],
        [
         "45",
         "46",
         "vulnerability assessment, remediation, ACAS Scan, HBSS software, patching, system tightening, Oracle database functionality, patching, upgrades, encryption, security, storage management, backups, database design, middleware design, APEX applications, Risk Management Framework (RMF), system accreditation, compliance, Risk Management Framework (RMF), security, procedures, automation, patching, performance tuning, backup, recovery, change management, incident response, audit, data availability, data integrity, security, troubleshooting, business continuity, database tuning, web-based service maintenance, APEX, Windows server administration, database creation, table spaces, tables, indexes, privileges, user logins, data migration, export/import, Oracle client/server installation, Data guard setup, script writing, tables, views, indexes, synonyms, Cluster Server Management, Oracle RAC, database reorganization, backup/recovery, exports/imports, Oracle 11g/12c installation, OEM, Oracle Diagnostic, Tuning packs, database refresh, Oracle Golden Gate replication, Oracle RDBM installation, database creation, configuration, user privilege control, security monitoring, audit, login creation, Windows/Standard/certificate authentication, jobs, schedules, alerts, troubleshooting, tuning, shell scripting, performance monitoring, patching, physical standby, snapshot standby, active data-guard, backup/recovery, production support, performance tuning, auditing, user management, Oracle 11g to 12c upgrade testing"
        ],
        [
         "46",
         "47",
         "Installation and Configuration of DB2 environment in LUW, Upgradation of database from v9.5fp7 to V9.7 fp11 from v9.7fp11 to V10.5 fp6, Actively Involved in design/configuring databases on HADR-TSA/HADR-VCS and VCS clusters, Apply the db2 patches by using zero down time Approach, Setting up the Q-Replication as per customer requirement by using Bi-Directional strategy, Experience in managing Table space Capacity Management, Archival logs and DB Backups, Extensive work experience in DB Tuning, Performance issues and Query Optimization using db2batch & db2advis, Having experience on DPF environment servers, Setting up the Zero Down Time server as per customer requirement by using database WRITE SUSPEND/RESUME mode, Strong knowledge in Database Physical Support and Design, Hands on experience on DB Backup and Recovery strategies, Hand-on experience in Migrating Databases from DB2 V9.x to V10.x, Extensive experience in working with db2 specific tools such as db2pd, db2dart, db2support, db2top, db2inspect, db2advise,db2explain, db2diag,db2look, db2move & db2relocatedb, Ensure availability of databases through database backups, verifying backups, ensure proper functioning of Jobs, Improve security by controlling user privileges/roles and implement profiles to meet the Security Standards, Create and maintain DB2 UDB instances and databases for development, test, and production environments within AIX operating environment, Implemented backup compression techniques and can support Time finder backups, Having good knowledge of AIX and Linux Operating System, Monitor security breaches, error log(s), database and log space, user activity and resource utilization of production environment, Work with application programmers to ensure that application problems do not adversely affect production operations, Installation and Configuration of DB2 environment in LUW, Stabilizing the DB2 environments and streamlined the systems, Identifying key milestones and deliverables, Upgradation of database from v9.5 fp10 to v9.7 fp7, Configuring the High Availability techniques like HADR& HACMP, Installing and configuring the databases to IBM OPM tool for proactive monitoring of DB2 databases, Extensive experience in fine tuning of long running queries, Extensive experience in loading large volumes of data across DB's, Backup & Recovery of Database, Online database backup, archived log files and Offline, Granting / revoking various authorizations to different Users/Groups, Capture and analyze Explain and Visual Explain information, Usage of tools like DB2 Load, Import, Export and Reorg, Run stats, Reorg Check, Backup, Restore, Db2move and Db2look, Creation and management of both system level and object level roles and privileges for various users, Exposure on DR test & strategies like Failover Clustering/HADR, Cataloging Databases on various nodes, Involved in physical database layout design, Working with apps team to deploy the releases on time and more accurately, Snapshot monitoring was done to detect deadlocks, buffer pools and lock escalations, Provide assistance to the development team on performance tuning, resolving locking situations, assist data modeler with SQL scripts, Responsibilities include disaster recovery, capacity planning and Real Time monitoring, troubleshooting and proactive maintenance, Perform file system copy from production to non-production using TSM backup and recovering DB2 databases in non-production environment, Implemented Database partitioning and Archival logging in DB2 UDB, Troubleshoot the issues as and when required, Attending Weekend calls with offshore and onsite teams, Setup and maintain documentation and standards"
        ],
        [
         "47",
         "48",
         "SQL SERVER, ORACLE, PL/SQL, SQL, RMAN, LINUX, RED HAT, SHELL SCRIPTING, UNIX, REMEDY, PERL, SCRIPTING, T-SQL, BASH, JIRA, RDBMS, STORAGE MANAGEMENT, AUDIT, MS WINDOWS SERVER 2008, WINDOWS SERVER 2008, Oracle Dba, Sql Dba, MYSQL, DBA"
        ],
        [
         "48",
         "49",
         "SQL Server Installation, SQL Server Configuration, Data Modelling, Backup-Restore, Disaster Recovery, Monitoring, Troubleshooting, Performance Tuning, Query Optimization, Replications, AlwaysOn, Mirroring, Clustering, Log-Shipping, SQL/T-SQL, Stored Procedures, Functions, Triggers, Constraints, Views, Database Security, Dynamic Data Masking, TDE, Column level Encryption, Login Management, Permissions Management, Execution Plan, Profiler, Extended Event, DTA, ER-Diagram, RedGate, Idera, SolarWinds, JIRA, Service Desk, ER-Win, SSIS, SSRS, SSAS, AlwaysOn Configuration, TDE, Database Migration, Database Administration, Database Management, Database High Availability, Disaster Recovery, Database Backup/Recovery, Automation, T-SQL, Triggers, Stored Procedure, Performance Tuning, Query Optimization, Execution Plan, Monitoring, Index Management, Constraints Management, Security Management, ETL Tools, SSIS, SSAS, SSRS, Database Migration, Database High Availability, Database Programming, Database Monitoring, Performance Tuning, Database Backup/Recovery, Data Modelling, ETL Tools, DTS, SSIS, SSAS, SSRS, Data Export/Import"
        ],
        [
         "49",
         "50",
         "SQL Server 2016/2014/2012/2008/2005/2000, MySQL, Sybase, PostgreSQL, FoxPro, Oracle12c, No SQL, MS ACCESS 2003 & 2000, Cloudera Hadoop, SSMS, BIDS, Query Analyzer, Profiler, Database Mail, SQL MAIL, SQL Agent, PL/SQL, TOAD, BCP, SSIS/DTS, SSRS, Crystal Report, SSAS, SSDD, ERWin, VISIO, Red gate, Lite Speed, MPD, SQL, T-SQL, Stored Procedure, Trigger, Web Design, HTML, JavaScript, ASP, ASP.net, Windows 2000,7, XP/NT4.0, Windows Server 2012/2008/2003/2000, MS-DOS, UNIX/Linux, VMware, Cluster, SAN, RAID, Microsoft Azure(RDS), AWS(RDS), Idera, Spectrum, Spotlight, RedGate, ERWin, NetBackup, Delphix, SQL Server 2012, 2008, 2005 & 2000, SQL Azure, Azure SQL Database Import and Export Service, Azure, AWS, RDS, SQL Server Reporting Services (SSRS), Report Builder 3.0, 2.0, ERWin, VISIO, Oracle SQL Developer, SQL Server Data Diagram, T-SQL, User Define Function, Trigger, Stored-Procedures, DTS, SSIS, BCP, Oracle, My-SQL, Access, DBCC, Windows Clustering, Replication, Windows Server 2008R2 and Windows Server 2003, .Net Framework, C#.Net, JavaScript, MS TFS, MS-Access, SharePoint 2010, Oracle 10g, LiteSpeed, SSIS, SSAS, SSRS, VMware, SQL Server 2005/2000, Database mirroring, Log shipping, Transactional Replication Environment, Indexes, DMVs (Dynamic Management Views), Performance Tuning, Transparent Data Encryption (TDE), Query Tuning, Statistics update, Index rebuild, Log file monitoring, Temp DB monitoring, Deadlock resolutions, Fragmentation issues, Database Tuning Advisor, SQL Server Profiler, Performance Monitor, Activity Monitor, Backup Plan, Disaster Recovery Plan, SSIS, SSRS, Data Ware Housing, Visual studio 2008, MS Visio 2007, XML, MS Access 2003, SQL Server 2008/2005/2000, SSIS, SSRS, Data Ware Housing, Visual studio 2008, MS Visio 2007, XML, MS Access 2003, SQL Server 2008, 2005 & 2000, Windows Server (2000 & 2003), SSIS, Kerberos authentications, Database mirroring, Replications, Policy based Management, Table Compression, Backup Compression, SQL Server Auditing, Resource Governor, Merge statement in T-SQL, MS Access, Oracle, Excel, Flat file, CSV file, ERWin, DBCC, DTS, BCP"
        ]
       ],
       "shape": {
        "columns": 2,
        "rows": 54858
       }
      },
      "text/html": [
       "<div>\n",
       "<style scoped>\n",
       "    .dataframe tbody tr th:only-of-type {\n",
       "        vertical-align: middle;\n",
       "    }\n",
       "\n",
       "    .dataframe tbody tr th {\n",
       "        vertical-align: top;\n",
       "    }\n",
       "\n",
       "    .dataframe thead th {\n",
       "        text-align: right;\n",
       "    }\n",
       "</style>\n",
       "<table border=\"1\" class=\"dataframe\">\n",
       "  <thead>\n",
       "    <tr style=\"text-align: right;\">\n",
       "      <th></th>\n",
       "      <th>person_id</th>\n",
       "      <th>skill</th>\n",
       "    </tr>\n",
       "  </thead>\n",
       "  <tbody>\n",
       "    <tr>\n",
       "      <th>0</th>\n",
       "      <td>1</td>\n",
       "      <td>Database administration, Database, Ms sql serv...</td>\n",
       "    </tr>\n",
       "    <tr>\n",
       "      <th>1</th>\n",
       "      <td>2</td>\n",
       "      <td>sql server management studio, visual studio, s...</td>\n",
       "    </tr>\n",
       "    <tr>\n",
       "      <th>2</th>\n",
       "      <td>3</td>\n",
       "      <td>DATABASES, ORACLE (4 years), ORACLE 10G, SQL, ...</td>\n",
       "    </tr>\n",
       "    <tr>\n",
       "      <th>3</th>\n",
       "      <td>4</td>\n",
       "      <td>Maintain multiple database environments (Redsh...</td>\n",
       "    </tr>\n",
       "    <tr>\n",
       "      <th>4</th>\n",
       "      <td>5</td>\n",
       "      <td>Scrum, Agile software development, Product bac...</td>\n",
       "    </tr>\n",
       "    <tr>\n",
       "      <th>...</th>\n",
       "      <td>...</td>\n",
       "      <td>...</td>\n",
       "    </tr>\n",
       "    <tr>\n",
       "      <th>54853</th>\n",
       "      <td>54929</td>\n",
       "      <td>Django, Angular JS, JavaScript, JQuery, Node.j...</td>\n",
       "    </tr>\n",
       "    <tr>\n",
       "      <th>54854</th>\n",
       "      <td>54930</td>\n",
       "      <td>Python, Django, AWS, AngularJS, Bootstrap, Jav...</td>\n",
       "    </tr>\n",
       "    <tr>\n",
       "      <th>54855</th>\n",
       "      <td>54931</td>\n",
       "      <td>Python 2.7, HTML5, CSS3, AJAX, JSON, JQuery, A...</td>\n",
       "    </tr>\n",
       "    <tr>\n",
       "      <th>54856</th>\n",
       "      <td>54932</td>\n",
       "      <td>Python 3.1x, PyQuery, PyQt, Django, Angular.js...</td>\n",
       "    </tr>\n",
       "    <tr>\n",
       "      <th>54857</th>\n",
       "      <td>54933</td>\n",
       "      <td>Analyzed and gathered business requirements, D...</td>\n",
       "    </tr>\n",
       "  </tbody>\n",
       "</table>\n",
       "<p>54858 rows × 2 columns</p>\n",
       "</div>"
      ],
      "text/plain": [
       "       person_id                                              skill\n",
       "0              1  Database administration, Database, Ms sql serv...\n",
       "1              2  sql server management studio, visual studio, s...\n",
       "2              3  DATABASES, ORACLE (4 years), ORACLE 10G, SQL, ...\n",
       "3              4  Maintain multiple database environments (Redsh...\n",
       "4              5  Scrum, Agile software development, Product bac...\n",
       "...          ...                                                ...\n",
       "54853      54929  Django, Angular JS, JavaScript, JQuery, Node.j...\n",
       "54854      54930  Python, Django, AWS, AngularJS, Bootstrap, Jav...\n",
       "54855      54931  Python 2.7, HTML5, CSS3, AJAX, JSON, JQuery, A...\n",
       "54856      54932  Python 3.1x, PyQuery, PyQt, Django, Angular.js...\n",
       "54857      54933  Analyzed and gathered business requirements, D...\n",
       "\n",
       "[54858 rows x 2 columns]"
      ]
     },
     "execution_count": 25,
     "metadata": {},
     "output_type": "execute_result"
    }
   ],
   "source": [
    "person_skills['skill'] = person_skills['skill'].fillna('').astype(str)\n",
    "skills_grouped = person_skills.groupby('person_id')['skill'].apply(lambda x: ', '.join(x)).reset_index()\n",
    "skills_grouped"
   ]
  },
  {
   "cell_type": "markdown",
   "id": "77088206",
   "metadata": {},
   "source": [
    "##### Group abilities"
   ]
  },
  {
   "cell_type": "code",
   "execution_count": 26,
   "id": "e21cc65e",
   "metadata": {},
   "outputs": [],
   "source": [
    "abilities_grouped = abilities.groupby('person_id')['ability'].apply(lambda x: ', '.join(x)).reset_index()"
   ]
  },
  {
   "cell_type": "markdown",
   "id": "b3c2f33a",
   "metadata": {},
   "source": [
    "##### Get latest education per person"
   ]
  },
  {
   "cell_type": "code",
   "execution_count": 27,
   "id": "1e8fc26d",
   "metadata": {},
   "outputs": [
    {
     "name": "stderr",
     "output_type": "stream",
     "text": [
      "C:\\Users\\ABHISHEK S\\AppData\\Local\\Temp\\ipykernel_7216\\588512914.py:7: UserWarning: Could not infer format, so each element will be parsed individually, falling back to `dateutil`. To ensure parsing is consistent and as-expected, please specify a format.\n",
      "  education['start_date'] = pd.to_datetime(education['start_date'], errors='coerce')\n"
     ]
    }
   ],
   "source": [
    "# Fill missing values before sorting\n",
    "education['program'] = education['program'].fillna('Unknown Program')\n",
    "education['institution'] = education['institution'].fillna('Unknown Institution')\n",
    "education['start_date'] = education['start_date'].fillna('1900-01-01')\n",
    "\n",
    "# Convert start_date to datetime \n",
    "education['start_date'] = pd.to_datetime(education['start_date'], errors='coerce')"
   ]
  },
  {
   "cell_type": "code",
   "execution_count": 28,
   "id": "077b1361",
   "metadata": {},
   "outputs": [
    {
     "data": {
      "application/vnd.microsoft.datawrangler.viewer.v0+json": {
       "columns": [
        {
         "name": "index",
         "rawType": "int64",
         "type": "integer"
        },
        {
         "name": "person_id",
         "rawType": "int64",
         "type": "integer"
        },
        {
         "name": "education",
         "rawType": "object",
         "type": "string"
        }
       ],
       "ref": "c0e9941d-d08c-4469-889a-63ad852a9d1f",
       "rows": [
        [
         "0",
         "1",
         "Bachelor of Science at Lead City University"
        ],
        [
         "1",
         "2",
         "bsc in computer science at lagos state university"
        ],
        [
         "2",
         "3",
         "Master of Computer Applications in Science and technology at JNTU - Kakinada, Andhra Pradesh"
        ],
        [
         "3",
         "4",
         "Bachelor in Computer Science at University of Informatics"
        ],
        [
         "4",
         "5",
         "Unknown Program at Virginia Commomwealth University"
        ],
        [
         "5",
         "6",
         "General/Business/Science Courses at UNIVERSITY OF ALASKA"
        ],
        [
         "6",
         "7",
         "Biochemistry at University Of Yaounde"
        ],
        [
         "7",
         "8",
         "Bachelor's Degree in BiologyChem / Computer Science at Bowie State University"
        ],
        [
         "8",
         "9",
         "Computer Science/Information Systems at University of Massachusetts - Dartmouth"
        ],
        [
         "9",
         "10",
         "Information Technology at University of Maryland-University College"
        ],
        [
         "10",
         "11",
         "BA Political Science at George Washington University"
        ],
        [
         "11",
         "12",
         "Associate's degree at University of Maryland"
        ],
        [
         "12",
         "13",
         "Bachelor's Degree at University of Yaoundé II"
        ],
        [
         "13",
         "14",
         "B.A. in Computer Science at The University of Iowa"
        ],
        [
         "14",
         "15",
         "Bachelor's in Management in Finance at Sufia Institute of Science & Technology"
        ],
        [
         "15",
         "16",
         "Unknown Program at Unknown Institution"
        ],
        [
         "16",
         "17",
         "Master's in science at University of Trento"
        ],
        [
         "17",
         "18",
         "Bachelor of Business Administration in Accounting at Middle Tennessee State University"
        ],
        [
         "18",
         "19",
         "Bachelor of Science at Radford University"
        ],
        [
         "19",
         "20",
         "Computer Science at Stevens Institute of Technology"
        ],
        [
         "20",
         "21",
         "Bachelor's in Computer Science and Business Management at University of Buea"
        ],
        [
         "21",
         "22",
         "Bachelor of Science at North Dakota State University"
        ],
        [
         "22",
         "23",
         "Bachelor's in Computer Science at University of Maryland University College"
        ],
        [
         "23",
         "24",
         "BSc in Science of Education at OLNC Training Center"
        ],
        [
         "24",
         "25",
         "Bachelor of Science in Business Information Systems at HOWARD UNIVERSITY"
        ],
        [
         "25",
         "27",
         "Industrial Engineering at North Carolina A&T State University"
        ],
        [
         "26",
         "28",
         "Bachelor's in Business Administration at UNLV"
        ],
        [
         "27",
         "29",
         "Bachelor of Science in Computer Science at Savannah State University"
        ],
        [
         "28",
         "30",
         "Bachelor of Engineering at MVJ College of Engineering"
        ],
        [
         "29",
         "31",
         "Master's in Computer Integrated Manufacturing and Management in Computer Integrated Manufacturing and Management at University Of Huddersfield"
        ],
        [
         "30",
         "32",
         "Bachelor's in Information Technology at DeVry Institute"
        ],
        [
         "31",
         "33",
         "Unknown Program at Unknown Institution"
        ],
        [
         "32",
         "34",
         "Bachelor of Business Administration in Business Administration at MAIWAND University"
        ],
        [
         "33",
         "35",
         "BACHELOR OF INFORMATION TECHNOLOGY in INFORMATION TECHNOLOGY at Sensum Computer College"
        ],
        [
         "34",
         "36",
         "BACHELOR OF ENGINEERING in COMPUTER SCIENCE & ENGINEERING at RAJIV GANDHI TECHNICAL UNIVERSITY"
        ],
        [
         "35",
         "37",
         "BSC in Information Systems and Cyber Security at United Methodist University"
        ],
        [
         "36",
         "38",
         "Bachelor of Technology in Technology at Jawaharlal Nehru Technological University Hyderabad"
        ],
        [
         "37",
         "40",
         "Unknown Program at Unknown Institution"
        ],
        [
         "38",
         "41",
         "Bachelor of Science in Economics at University of Uyo"
        ],
        [
         "39",
         "42",
         "Associate of Arts in Early Childhood Development in Education and Certificates at Northern Virginia Community College"
        ],
        [
         "40",
         "44",
         "Bachelor of Arts in History at University of Wisconsin - Whitewater"
        ],
        [
         "41",
         "45",
         "BS in Game art and design at Southern New Hampshire University"
        ],
        [
         "42",
         "46",
         "BBA in Management Information Systems at University of Houston"
        ],
        [
         "43",
         "48",
         "Bachelors of Science in Global and Community Health at George Mason University"
        ],
        [
         "44",
         "50",
         "Unknown Program at Bachelor's"
        ],
        [
         "45",
         "51",
         "Unknown Program at Bachelor's"
        ],
        [
         "46",
         "52",
         "Master of Science in Electrical Engineering at State University of New York at New Paltz"
        ],
        [
         "47",
         "53",
         "Bachelor's at University of Buea"
        ],
        [
         "48",
         "54",
         "Bachelor of Science in Computer Science at Pune University/Fergusson College - Pune, Maharashtra"
        ],
        [
         "49",
         "55",
         "Bachelor in Computer Science at Kabul University"
        ]
       ],
       "shape": {
        "columns": 2,
        "rows": 48075
       }
      },
      "text/html": [
       "<div>\n",
       "<style scoped>\n",
       "    .dataframe tbody tr th:only-of-type {\n",
       "        vertical-align: middle;\n",
       "    }\n",
       "\n",
       "    .dataframe tbody tr th {\n",
       "        vertical-align: top;\n",
       "    }\n",
       "\n",
       "    .dataframe thead th {\n",
       "        text-align: right;\n",
       "    }\n",
       "</style>\n",
       "<table border=\"1\" class=\"dataframe\">\n",
       "  <thead>\n",
       "    <tr style=\"text-align: right;\">\n",
       "      <th></th>\n",
       "      <th>person_id</th>\n",
       "      <th>education</th>\n",
       "    </tr>\n",
       "  </thead>\n",
       "  <tbody>\n",
       "    <tr>\n",
       "      <th>0</th>\n",
       "      <td>1</td>\n",
       "      <td>Bachelor of Science at Lead City University</td>\n",
       "    </tr>\n",
       "    <tr>\n",
       "      <th>1</th>\n",
       "      <td>2</td>\n",
       "      <td>bsc in computer science at lagos state university</td>\n",
       "    </tr>\n",
       "    <tr>\n",
       "      <th>2</th>\n",
       "      <td>3</td>\n",
       "      <td>Master of Computer Applications in Science and...</td>\n",
       "    </tr>\n",
       "    <tr>\n",
       "      <th>3</th>\n",
       "      <td>4</td>\n",
       "      <td>Bachelor in Computer Science at University of ...</td>\n",
       "    </tr>\n",
       "    <tr>\n",
       "      <th>4</th>\n",
       "      <td>5</td>\n",
       "      <td>Unknown Program at Virginia Commomwealth Unive...</td>\n",
       "    </tr>\n",
       "    <tr>\n",
       "      <th>...</th>\n",
       "      <td>...</td>\n",
       "      <td>...</td>\n",
       "    </tr>\n",
       "    <tr>\n",
       "      <th>48070</th>\n",
       "      <td>54923</td>\n",
       "      <td>Master's in Information technology at Wilmingt...</td>\n",
       "    </tr>\n",
       "    <tr>\n",
       "      <th>48071</th>\n",
       "      <td>54924</td>\n",
       "      <td>Bachelor's Degree in Computer Science at JNT U...</td>\n",
       "    </tr>\n",
       "    <tr>\n",
       "      <th>48072</th>\n",
       "      <td>54925</td>\n",
       "      <td>Masters in Electrical and Electronics Engineer...</td>\n",
       "    </tr>\n",
       "    <tr>\n",
       "      <th>48073</th>\n",
       "      <td>54927</td>\n",
       "      <td>Bachelor of Science in Computers at Andhra Uni...</td>\n",
       "    </tr>\n",
       "    <tr>\n",
       "      <th>48074</th>\n",
       "      <td>54928</td>\n",
       "      <td>Unknown Program at Information Technology Stat...</td>\n",
       "    </tr>\n",
       "  </tbody>\n",
       "</table>\n",
       "<p>48075 rows × 2 columns</p>\n",
       "</div>"
      ],
      "text/plain": [
       "       person_id                                          education\n",
       "0              1        Bachelor of Science at Lead City University\n",
       "1              2  bsc in computer science at lagos state university\n",
       "2              3  Master of Computer Applications in Science and...\n",
       "3              4  Bachelor in Computer Science at University of ...\n",
       "4              5  Unknown Program at Virginia Commomwealth Unive...\n",
       "...          ...                                                ...\n",
       "48070      54923  Master's in Information technology at Wilmingt...\n",
       "48071      54924  Bachelor's Degree in Computer Science at JNT U...\n",
       "48072      54925  Masters in Electrical and Electronics Engineer...\n",
       "48073      54927  Bachelor of Science in Computers at Andhra Uni...\n",
       "48074      54928  Unknown Program at Information Technology Stat...\n",
       "\n",
       "[48075 rows x 2 columns]"
      ]
     },
     "execution_count": 28,
     "metadata": {},
     "output_type": "execute_result"
    }
   ],
   "source": [
    "education_sorted = education.sort_values(by='start_date')\n",
    "latest_education = education_sorted.groupby('person_id').last().reset_index()\n",
    "latest_education['education'] = latest_education['program'] + ' at ' + latest_education['institution']\n",
    "education_clean = latest_education[['person_id', 'education']]\n",
    "\n",
    "\n",
    "education_clean\n"
   ]
  },
  {
   "cell_type": "markdown",
   "id": "d6d7ea5b",
   "metadata": {},
   "source": [
    "##### Merge experience (latest job title only)\n"
   ]
  },
  {
   "cell_type": "code",
   "execution_count": 29,
   "id": "583df9f4",
   "metadata": {},
   "outputs": [
    {
     "name": "stderr",
     "output_type": "stream",
     "text": [
      "C:\\Users\\ABHISHEK S\\AppData\\Local\\Temp\\ipykernel_7216\\389782430.py:4: SettingWithCopyWarning: \n",
      "A value is trying to be set on a copy of a slice from a DataFrame\n",
      "\n",
      "See the caveats in the documentation: https://pandas.pydata.org/pandas-docs/stable/user_guide/indexing.html#returning-a-view-versus-a-copy\n",
      "  experience_clean.rename(columns={'title': 'last_job_title'}, inplace=True)\n"
     ]
    }
   ],
   "source": [
    "experience_sorted = experience.sort_values(by='start_date')\n",
    "latest_experience = experience_sorted.groupby('person_id').last().reset_index()\n",
    "experience_clean = latest_experience[['person_id', 'title']]\n",
    "experience_clean.rename(columns={'title': 'last_job_title'}, inplace=True)"
   ]
  },
  {
   "cell_type": "markdown",
   "id": "c7f32aa5",
   "metadata": {},
   "source": [
    "##### Combine everything"
   ]
  },
  {
   "cell_type": "code",
   "execution_count": 30,
   "id": "49113b08",
   "metadata": {},
   "outputs": [],
   "source": [
    "resume_df = people.merge(skills_grouped, on='person_id', how='left') \\\n",
    "                  .merge(abilities_grouped, on='person_id', how='left') \\\n",
    "                  .merge(education_clean, on='person_id', how='left') \\\n",
    "                  .merge(experience_clean, on='person_id', how='left')"
   ]
  },
  {
   "cell_type": "code",
   "execution_count": 31,
   "id": "dc5be11a",
   "metadata": {},
   "outputs": [
    {
     "data": {
      "application/vnd.microsoft.datawrangler.viewer.v0+json": {
       "columns": [
        {
         "name": "index",
         "rawType": "int64",
         "type": "integer"
        },
        {
         "name": "person_id",
         "rawType": "int64",
         "type": "integer"
        },
        {
         "name": "name",
         "rawType": "object",
         "type": "string"
        },
        {
         "name": "email",
         "rawType": "object",
         "type": "unknown"
        },
        {
         "name": "phone",
         "rawType": "object",
         "type": "unknown"
        },
        {
         "name": "linkedin",
         "rawType": "object",
         "type": "unknown"
        },
        {
         "name": "skill",
         "rawType": "object",
         "type": "string"
        },
        {
         "name": "ability",
         "rawType": "object",
         "type": "string"
        },
        {
         "name": "education",
         "rawType": "object",
         "type": "string"
        },
        {
         "name": "last_job_title",
         "rawType": "object",
         "type": "string"
        }
       ],
       "ref": "ad43c242-30d1-43cd-925d-510e1a818fd4",
       "rows": [
        [
         "0",
         "1",
         "Database Administrator",
         null,
         null,
         null,
         "Database administration, Database, Ms sql server, Ms sql server 2005, Sql server, Sql server 2005, Sql server 2008, Sql server 2008 r2, Sql server 2012, Sql, Sql queries, Stored procedures, Clustering, Backups, T-sql, Virtualization, R2, Maintenance, Problem solving, Shipping, Database administration, Database, Ms sql server, Ms sql server 2005, Sql server, Sql server 2005, Sql server 2008, Sql server 2008 r2, Sql server 2012, Sql, Sql queries, Stored procedures, Clustering, Backups, T-sql, Virtualization, R2, Maintenance, Problem solving, Shipping",
         "Installation and Building Server, Running Backups, Recovering and Restoring Models, Support various MS SQL Server, MS SQL Server 2005/2008, environments from SQL Server, /2008R2R2/2012/2014, 2005 thru SQL Server 2008r2 as, administration including, well as with SQL Server 2012 on, installation, configuration,, upgrades, capacity planning,, performance tuning, backup and, recovery., Familiar with virtualization and, managing SQL databases in a, virtual environment., Management of users including, creation/alteration, grant of, system/DB roles and permissions, on various database objects., Design and implement SQL Server, 201, databases for mission-critical, 2005, SQL Server 2008 R2,, business., Environment transition planning, (development, test, stage,, production)., Perform routine backup and, recovery testing and documenting, recovery scenarios., Use SQL Profiler for, troubleshooting, monitoring, and, optimization of SQL Server and, SQL code., Manage the production and, development databases including, performance tuning, capacity, planning, SQL Server clustering,, database security configuration,, and database continuity., Excellent analytical,, communication skills, work ethics, and ability to work in a team, environment with strong, determination and commitment to, the deliverables., Highly motivated self-starter with, the ability to work independently.",
         "Bachelor of Science at Lead City University",
         "Database Administrator"
        ],
        [
         "1",
         "2",
         "Database Administrator",
         null,
         null,
         null,
         "sql server management studio, visual studio, sql, microsoft powerpoint, windows xp, microsoft office, assembly language, microsoft windows 7, c, c#, visual basic, java programming, microprocessors, hardware/systems design, digital electronics, system organization, microsoft excel",
         "database management systems administration, developing and maintaining database, working on high-end servers, analyzing business requirements, developing and designing data models, providing and designing db tools, assessing and executing implementing of new technologies, working in coordination with company developers and project managers, developing training programs, training technical support and applications personnel, monitoring performance and capacity, providing resolutions to system problems, providing technical support for sql database environment, overseeing databases development and organization, communicating regularly with staff, creating database with back-up system, monitoring data availability for faster query response, designing conceptual schema as per the client needs, looking after the security of company data, testing and installing latest versions of database management systems, granting access to users as per their needs and requirements",
         "bsc in computer science at lagos state university",
         "Database Administrator"
        ],
        [
         "2",
         "3",
         "Oracle Database Administrator",
         null,
         null,
         null,
         "DATABASES, ORACLE (4 years), ORACLE 10G, SQL, LINUX, RMAN (4 years), DATAGUARD (3 years), DATABASES, ORACLE (4 years), ORACLE 10G, SQL, LINUX, RMAN (4 years), DATAGUARD (3 years)",
         "Over 4+ years of Experience as Architecture, Experienced in Installation and Maintaining Highly Critical Databases in any Operational mode on Unix/Linux, Sun Solaris, Experienced in 10g, 11g, 12c databases, Responsible for installing Oracle 11g and 12c in Single Node & Multi node's Configure host and listener, Experienced in Creating Users, Roles and Profiles, Assigning Roles and Profiles to Users, Experience on Data Guard setup 10g/11g/12c, Expertise in Managing and monitoring Database Storage Structures, Data Files Space, Resizing and Adding new Data files, Maintaining the Cold and Hot, Logical and RMAN Backups of the Databases, Performing Logical Backups Using Export Utility and Restoring Specific Object or Schema Using Import Utility, Monitoring and Performing Daily incremental Backups, Weekly Backups Using RMAN, Experience in Concept of Flashback Mechanism, Having Good and Usable Knowledge on Automatic Storage Management(ASM), Conversion of Non-ASM Database to ASM Database and Monitoring ASM instances, Experience on Cloning User man and RMAN, Experience on Applying patches to Database CPU and PSU and interim Patches, Experience on Performance tuning and Troubleshooting of Database, Maintaining of Buffer Cache, Library Cache, and Dictionary Cache, Taking Care of Wait Events, Analysing Instance and System Performance, Analysing the DB performance Using AWR, ASH and ADDM Reports, Upgrade Database from 10g to 11g and 11g to 12c, Creation of ASM Databases, ASM Instances, Backups & Recovery of Databases, Table-Spaces, Data files, Design and Develop Database Backup, Recovery and Operations Procedures",
         "Master of Computer Applications in Science and technology at JNTU - Kakinada, Andhra Pradesh",
         "Oracle Database Administrator"
        ],
        [
         "3",
         "4",
         "Amazon Redshift Administrator and ETL Developer, Business Intelligence",
         null,
         null,
         null,
         "Maintain multiple database environments (Redshift, RDS) in AWS, User management and group in Redshift, Design and Developed ETL jobs to extract data from RDS and load it in Redshift Matillion ETL and python script, Experience working within the AWS Big Data Ecosystem (S3, RDS, and Redshift), Expertise in development of various reports and prepare the data for the utilization with tableau, Expertise Query Tuning and Performance optimization and Implementing Work Load management, Managing Amazon Redshift Snapshots using the console, Designed of Conceptual Logical Model and Physical Model, Implemented, supported and managed the database, Kept data integrity and availability, Designed, deployed and monitored database servers, Managed user administration, Migrated different databases in SQL Management, PostgreSQL and Oracle, Migrated and created new database structures, such as tables, indexes and stored procedures from development to the production environment, Created and tuned query, stored procedures, triggers, views and added/changed tables for data load and transformation, and data extraction, Created backup and restored strategy of production, development and test environments, Executed recovery databases and created the documentation to provide the disaster recovery processes, Produced entity relationship & data flow diagrams, database normalization schemata logical to physical database maps, and data table parameters, Installed and managed Database Server, Created and monitored user accounts, user permissions, database extents and table partitions, Implemented robust backup and recovery procedures based on data volatility and application availability requirements, Monitored and optimized system performance using index tuning, disk optimization, and other methods, Monitored the size of the transaction log. Managed databases on multiple disks using Disk Mirroring technology, Collected, stored, managed, and enabled the ability to query the organization's metadata, Ensured data availability using administration tactics, Designed, debugged, implemented, and maintained stored procedures, triggers, and user-defined functions that are stored in the DBMS",
         "SQL management, PostgresSQL, Oracle, MySQL, microsoft office, PHP, .NET, ETL, Data Warehouse, Datastage, Data Stage, Data modeling and database design, Metadata management and repository usage, Manage large databases, Backup and recovery procedures, Solve technical problems, Good communication skills, Procedural skills, Focus on deadlines and deliverables, Work with SQL Management, PostgreSQL, Oracle, MySQL, Microsoft Office",
         "Bachelor in Computer Science at University of Informatics",
         "Database Administrator"
        ],
        [
         "4",
         "5",
         "Scrum Master Scrum Master Scrum Master",
         null,
         null,
         null,
         "Scrum, Agile software development, Product backlog grooming, Burnup and burndown charts, Dependency management, Problem solving, Continuous improvement, Production support, Scrum, Agile process, Sprint planning, Backlog grooming, Retrospective meetings, Oracle 10g and 11g administration, RMAN backups, Security patching, Performance tuning, ASM configuration, Auditing, Database monitoring, Grid-based monitoring, Data Guard configuration, Oracle Streams, Materialized views, Oracle Enterprise Manager, Oracle RAC maintenance, Data replication, TOAD",
         "Scrum Master, Agile software development, Product backlog management, Metrics and status tracking, Dependency management, Problem solving, Continuous improvement, Production support, Oracle database administration, RMAN backups, Security patching, Performance tuning, ASM configuration, Auditing, Database monitoring, Grid-based monitoring, Data Guard configuration, Oracle Streams, Materialized views, Oracle Enterprise Manager, Oracle RAC maintenance, Data replication",
         "Unknown Program at Virginia Commomwealth University",
         "Scrum Master"
        ]
       ],
       "shape": {
        "columns": 9,
        "rows": 5
       }
      },
      "text/html": [
       "<div>\n",
       "<style scoped>\n",
       "    .dataframe tbody tr th:only-of-type {\n",
       "        vertical-align: middle;\n",
       "    }\n",
       "\n",
       "    .dataframe tbody tr th {\n",
       "        vertical-align: top;\n",
       "    }\n",
       "\n",
       "    .dataframe thead th {\n",
       "        text-align: right;\n",
       "    }\n",
       "</style>\n",
       "<table border=\"1\" class=\"dataframe\">\n",
       "  <thead>\n",
       "    <tr style=\"text-align: right;\">\n",
       "      <th></th>\n",
       "      <th>person_id</th>\n",
       "      <th>name</th>\n",
       "      <th>email</th>\n",
       "      <th>phone</th>\n",
       "      <th>linkedin</th>\n",
       "      <th>skill</th>\n",
       "      <th>ability</th>\n",
       "      <th>education</th>\n",
       "      <th>last_job_title</th>\n",
       "    </tr>\n",
       "  </thead>\n",
       "  <tbody>\n",
       "    <tr>\n",
       "      <th>0</th>\n",
       "      <td>1</td>\n",
       "      <td>Database Administrator</td>\n",
       "      <td>NaN</td>\n",
       "      <td>NaN</td>\n",
       "      <td>NaN</td>\n",
       "      <td>Database administration, Database, Ms sql serv...</td>\n",
       "      <td>Installation and Building Server, Running Back...</td>\n",
       "      <td>Bachelor of Science at Lead City University</td>\n",
       "      <td>Database Administrator</td>\n",
       "    </tr>\n",
       "    <tr>\n",
       "      <th>1</th>\n",
       "      <td>2</td>\n",
       "      <td>Database Administrator</td>\n",
       "      <td>NaN</td>\n",
       "      <td>NaN</td>\n",
       "      <td>NaN</td>\n",
       "      <td>sql server management studio, visual studio, s...</td>\n",
       "      <td>database management systems administration, de...</td>\n",
       "      <td>bsc in computer science at lagos state university</td>\n",
       "      <td>Database Administrator</td>\n",
       "    </tr>\n",
       "    <tr>\n",
       "      <th>2</th>\n",
       "      <td>3</td>\n",
       "      <td>Oracle Database Administrator</td>\n",
       "      <td>NaN</td>\n",
       "      <td>NaN</td>\n",
       "      <td>NaN</td>\n",
       "      <td>DATABASES, ORACLE (4 years), ORACLE 10G, SQL, ...</td>\n",
       "      <td>Over 4+ years of Experience as Architecture, E...</td>\n",
       "      <td>Master of Computer Applications in Science and...</td>\n",
       "      <td>Oracle Database Administrator</td>\n",
       "    </tr>\n",
       "    <tr>\n",
       "      <th>3</th>\n",
       "      <td>4</td>\n",
       "      <td>Amazon Redshift Administrator and ETL Develope...</td>\n",
       "      <td>NaN</td>\n",
       "      <td>NaN</td>\n",
       "      <td>NaN</td>\n",
       "      <td>Maintain multiple database environments (Redsh...</td>\n",
       "      <td>SQL management, PostgresSQL, Oracle, MySQL, mi...</td>\n",
       "      <td>Bachelor in Computer Science at University of ...</td>\n",
       "      <td>Database Administrator</td>\n",
       "    </tr>\n",
       "    <tr>\n",
       "      <th>4</th>\n",
       "      <td>5</td>\n",
       "      <td>Scrum Master Scrum Master Scrum Master</td>\n",
       "      <td>NaN</td>\n",
       "      <td>NaN</td>\n",
       "      <td>NaN</td>\n",
       "      <td>Scrum, Agile software development, Product bac...</td>\n",
       "      <td>Scrum Master, Agile software development, Prod...</td>\n",
       "      <td>Unknown Program at Virginia Commomwealth Unive...</td>\n",
       "      <td>Scrum Master</td>\n",
       "    </tr>\n",
       "  </tbody>\n",
       "</table>\n",
       "</div>"
      ],
      "text/plain": [
       "   person_id                                               name email phone  \\\n",
       "0          1                             Database Administrator   NaN   NaN   \n",
       "1          2                             Database Administrator   NaN   NaN   \n",
       "2          3                      Oracle Database Administrator   NaN   NaN   \n",
       "3          4  Amazon Redshift Administrator and ETL Develope...   NaN   NaN   \n",
       "4          5             Scrum Master Scrum Master Scrum Master   NaN   NaN   \n",
       "\n",
       "  linkedin                                              skill  \\\n",
       "0      NaN  Database administration, Database, Ms sql serv...   \n",
       "1      NaN  sql server management studio, visual studio, s...   \n",
       "2      NaN  DATABASES, ORACLE (4 years), ORACLE 10G, SQL, ...   \n",
       "3      NaN  Maintain multiple database environments (Redsh...   \n",
       "4      NaN  Scrum, Agile software development, Product bac...   \n",
       "\n",
       "                                             ability  \\\n",
       "0  Installation and Building Server, Running Back...   \n",
       "1  database management systems administration, de...   \n",
       "2  Over 4+ years of Experience as Architecture, E...   \n",
       "3  SQL management, PostgresSQL, Oracle, MySQL, mi...   \n",
       "4  Scrum Master, Agile software development, Prod...   \n",
       "\n",
       "                                           education  \\\n",
       "0        Bachelor of Science at Lead City University   \n",
       "1  bsc in computer science at lagos state university   \n",
       "2  Master of Computer Applications in Science and...   \n",
       "3  Bachelor in Computer Science at University of ...   \n",
       "4  Unknown Program at Virginia Commomwealth Unive...   \n",
       "\n",
       "                  last_job_title  \n",
       "0         Database Administrator  \n",
       "1         Database Administrator  \n",
       "2  Oracle Database Administrator  \n",
       "3         Database Administrator  \n",
       "4                   Scrum Master  "
      ]
     },
     "execution_count": 31,
     "metadata": {},
     "output_type": "execute_result"
    }
   ],
   "source": [
    "resume_df.head()"
   ]
  },
  {
   "cell_type": "markdown",
   "id": "1888b03a",
   "metadata": {},
   "source": [
    "##### Rename and reorder columns"
   ]
  },
  {
   "cell_type": "code",
   "execution_count": 32,
   "id": "cb2022a1",
   "metadata": {},
   "outputs": [],
   "source": [
    "resume_df = resume_df[['person_id', 'name', 'email', 'phone', 'linkedin',\n",
    "                       'skill', 'ability', 'education', 'last_job_title']]"
   ]
  },
  {
   "cell_type": "code",
   "execution_count": 33,
   "id": "0bcf0bc9",
   "metadata": {},
   "outputs": [],
   "source": [
    "resume_df.columns = ['person_id', 'name', 'email', 'phone', 'linkedin',\n",
    "                     'skills', 'abilities', 'education', 'last_job_title']"
   ]
  },
  {
   "cell_type": "code",
   "execution_count": 34,
   "id": "e39ced6b",
   "metadata": {},
   "outputs": [],
   "source": [
    "resume_df.dropna(subset=['skills'], inplace=True)"
   ]
  },
  {
   "cell_type": "code",
   "execution_count": 35,
   "id": "15f4dfa0",
   "metadata": {},
   "outputs": [],
   "source": [
    "resume_df['resume_text'] = (\n",
    "    resume_df['skills'].fillna('') + ' ' +\n",
    "    resume_df['abilities'].fillna('') + ' ' +\n",
    "    resume_df['education'].fillna('') + ' ' +\n",
    "    resume_df['last_job_title'].fillna('')\n",
    ")\n"
   ]
  },
  {
   "cell_type": "markdown",
   "id": "ec20c7ad",
   "metadata": {},
   "source": [
    "### Load the Job Listings CSV"
   ]
  },
  {
   "cell_type": "code",
   "execution_count": 36,
   "id": "3cf63191",
   "metadata": {},
   "outputs": [],
   "source": [
    "main_df= pd.read_csv(r'D:\\Coding\\Resume_matcher_project\\Data\\job_postings.csv')\n",
    "df_skills=pd.read_csv(r\"D:\\Coding\\Resume_matcher_project\\Data\\job_skills.csv\")\n",
    "df_summary=pd.read_csv(r\"D:\\Coding\\Resume_matcher_project\\Data\\job_summary.csv\")"
   ]
  },
  {
   "cell_type": "code",
   "execution_count": null,
   "id": "73db593f",
   "metadata": {},
   "outputs": [
    {
     "data": {
      "text/plain": [
       "Index(['job_link', 'last_processed_time', 'last_status', 'got_summary',\n",
       "       'got_ner', 'is_being_worked', 'job_title', 'company', 'job_location',\n",
       "       'first_seen', 'search_city', 'search_country', 'search_position',\n",
       "       'job_level', 'job_type'],\n",
       "      dtype='object')"
      ]
     },
     "execution_count": 53,
     "metadata": {},
     "output_type": "execute_result"
    }
   ],
   "source": []
  },
  {
   "cell_type": "code",
   "execution_count": 37,
   "id": "c987e0c8",
   "metadata": {},
   "outputs": [],
   "source": [
    "job_df= main_df.merge(df_skills, on='job_link', how='left') \\\n",
    "               .merge(df_summary, on='job_link', how='left')"
   ]
  },
  {
   "cell_type": "code",
   "execution_count": 54,
   "id": "6affb097",
   "metadata": {},
   "outputs": [
    {
     "data": {
      "text/plain": [
       "Index(['job_link', 'last_processed_time', 'last_status', 'got_summary',\n",
       "       'got_ner', 'is_being_worked', 'job_title', 'company', 'job_location',\n",
       "       'first_seen', 'search_city', 'search_country', 'search_position',\n",
       "       'job_level', 'job_type', 'job_skills', 'job_summary', 'job_text'],\n",
       "      dtype='object')"
      ]
     },
     "execution_count": 54,
     "metadata": {},
     "output_type": "execute_result"
    }
   ],
   "source": [
    "job_df.columns"
   ]
  },
  {
   "cell_type": "code",
   "execution_count": 39,
   "id": "41c2bba4",
   "metadata": {},
   "outputs": [],
   "source": [
    "job_df['job_text'] = (\n",
    "    job_df['job_title'].fillna('') + ' ' +\n",
    "    job_df['job_summary'].fillna('') + ' ' +\n",
    "    job_df['job_skills'].fillna('')\n",
    ")\n"
   ]
  },
  {
   "cell_type": "markdown",
   "id": "907cc524",
   "metadata": {},
   "source": [
    "### TF-IDF + Cosine Similarity Matching"
   ]
  },
  {
   "cell_type": "markdown",
   "id": "e362bc89",
   "metadata": {},
   "source": [
    "Objective\n",
    "- We want to compare a candidate’s resume with job descriptions and find the most relevant jobs — automatically."
   ]
  },
  {
   "cell_type": "markdown",
   "id": "c82e2df8",
   "metadata": {},
   "source": [
    "But How?\n",
    "- We treat resume text and job text like documents.\n",
    "Then we use:\n",
    "\n",
    "- TF-IDF: to convert that text into numeric vectors\n",
    "\n",
    "- Cosine Similarity: to measure how similar the resume is to each job"
   ]
  },
  {
   "cell_type": "code",
   "execution_count": 40,
   "id": "5f0d2af1",
   "metadata": {},
   "outputs": [],
   "source": [
    "from sklearn.feature_extraction.text import TfidfVectorizer\n",
    "from sklearn.metrics.pairwise import cosine_similarity\n",
    "\n",
    "# Combine all resume and job text into one list for fitting the vectorizer\n",
    "all_text = pd.concat([resume_df['resume_text'], job_df['job_text']], ignore_index=True)\n",
    "\n",
    "# Initialize TF-IDF Vectorizer\n",
    "vectorizer = TfidfVectorizer(stop_words='english')\n",
    "\n",
    "# Fit on all text and transform\n",
    "tfidf_matrix = vectorizer.fit_transform(all_text)\n"
   ]
  },
  {
   "cell_type": "markdown",
   "id": "f9f5f3ea",
   "metadata": {},
   "source": [
    " What’s happening?\n",
    "TF-IDF (Term Frequency - Inverse Document Frequency) gives importance to words that are frequent in a document, but not common across all documents.\n",
    "\n",
    "Example: “Python” in a resume matters more than words like “the”, “in”, “with”.\n",
    "\n"
   ]
  },
  {
   "cell_type": "code",
   "execution_count": 41,
   "id": "3bc1cca1",
   "metadata": {},
   "outputs": [],
   "source": [
    "n_resumes = resume_df.shape[0]\n",
    "n_jobs = job_df.shape[0]\n",
    "\n",
    "resume_vectors = tfidf_matrix[:n_resumes]\n",
    "job_vectors = tfidf_matrix[n_resumes:]\n"
   ]
  },
  {
   "cell_type": "markdown",
   "id": "7d46bab2",
   "metadata": {},
   "source": [
    "Why this?\n",
    "- We created one TF-IDF matrix for both resumes and jobs\n",
    "\n",
    "- Now we split them into two parts:\n",
    "\n",
    "- One for resumes\n",
    "\n",
    "- One for jobs\n",
    "\n"
   ]
  },
  {
   "cell_type": "code",
   "execution_count": 42,
   "id": "8f732d7e",
   "metadata": {},
   "outputs": [],
   "source": [
    "from sklearn.metrics.pairwise import cosine_similarity\n",
    "\n",
    "similarity_matrix = cosine_similarity(resume_vectors, job_vectors)\n"
   ]
  },
  {
   "cell_type": "markdown",
   "id": "c7c22672",
   "metadata": {},
   "source": [
    "What’s Cosine Similarity?\n",
    "- Measures the angle between two vectors\n",
    "\n",
    "- Closer the angle (closer to 1), more similar the resume and job are\n",
    "\n",
    "- Perfect match = 1.0 (or 100%)"
   ]
  },
  {
   "cell_type": "code",
   "execution_count": 43,
   "id": "0e817e48",
   "metadata": {},
   "outputs": [],
   "source": [
    "top_matches = []\n",
    "\n",
    "for idx, similarities in enumerate(similarity_matrix):\n",
    "    top_indices = similarities.argsort()[::-1][:5]  # get top 5 jobs\n",
    "    matches = [(job_df.iloc[i]['job_title'], round(similarities[i]*100, 2)) for i in top_indices]\n",
    "    top_matches.append(matches)\n",
    "\n",
    "resume_df['top_jobs'] = top_matches"
   ]
  },
  {
   "cell_type": "markdown",
   "id": "409a10b3",
   "metadata": {},
   "source": [
    "What this does:\n",
    "- For each resume, find the top 5 most similar jobs\n",
    "\n",
    "- Save job title and similarity % as a list\n",
    "\n",
    "- Add this info as a new column top_jobs in resume_df"
   ]
  },
  {
   "cell_type": "code",
   "execution_count": 46,
   "id": "c178ad07",
   "metadata": {},
   "outputs": [],
   "source": [
    "sample_resume = {\n",
    "    'person_id': 999,\n",
    "    'name': 'Kavya Iyer',\n",
    "    'email': 'kavya.iyer@example.com',\n",
    "    'phone': '+91-9876543210',\n",
    "    'linkedin': 'linkedin.com/in/kavya-iyer',\n",
    "    'skills': 'Python, SQL, Pandas, Data Visualization, Machine Learning',\n",
    "    'abilities': 'Analytical Thinking, Communication, Problem Solving',\n",
    "    'education': 'B.Tech in Computer Science at VIT University',\n",
    "    'last_job_title': 'Data Analyst Intern'\n",
    "}\n"
   ]
  },
  {
   "cell_type": "code",
   "execution_count": 47,
   "id": "8539411e",
   "metadata": {},
   "outputs": [],
   "source": [
    "import pandas as pd\n",
    "\n",
    "# Convert dictionary to DataFrame row\n",
    "sample_df = pd.DataFrame([sample_resume])\n",
    "\n",
    "# Create resume_text field just like others\n",
    "sample_df['resume_text'] = (\n",
    "    sample_df['skills'] + ' ' +\n",
    "    sample_df['abilities'] + ' ' +\n",
    "    sample_df['education'] + ' ' +\n",
    "    sample_df['last_job_title']\n",
    ")\n",
    "\n",
    "# Append to your existing resume_df\n",
    "resume_df = pd.concat([resume_df, sample_df], ignore_index=True)\n"
   ]
  },
  {
   "cell_type": "code",
   "execution_count": 49,
   "id": "aa21dd82",
   "metadata": {},
   "outputs": [],
   "source": [
    "# Get the last added resume (Kavya's)\n",
    "new_resume_text = resume_df.iloc[-1]['resume_text']\n",
    "\n",
    "# Transform using the same vectorizer (do NOT fit again)\n",
    "new_resume_vector = vectorizer.transform([new_resume_text])\n"
   ]
  },
  {
   "cell_type": "code",
   "execution_count": 50,
   "id": "47dd8644",
   "metadata": {},
   "outputs": [],
   "source": [
    "# Get cosine similarity with job vectors\n",
    "new_similarities = cosine_similarity(new_resume_vector, job_vectors).flatten()\n"
   ]
  },
  {
   "cell_type": "code",
   "execution_count": 51,
   "id": "9e8de748",
   "metadata": {},
   "outputs": [],
   "source": [
    "top_indices = new_similarities.argsort()[::-1][:5]\n",
    "\n",
    "top_matches = [(job_df.iloc[i]['job_title'], round(new_similarities[i] * 100, 2)) for i in top_indices]\n",
    "\n",
    "# Store result back into the last row\n",
    "resume_df.at[resume_df.index[-1], 'top_jobs'] = top_matches\n"
   ]
  },
  {
   "cell_type": "code",
   "execution_count": 52,
   "id": "206c8fb4",
   "metadata": {},
   "outputs": [
    {
     "name": "stdout",
     "output_type": "stream",
     "text": [
      "\n",
      "👤 Kavya Iyer — Top Job Matches:\n",
      "🔹 Data-Intensive Python/SQL Developer with Machine Learning Experience (29.98%)\n",
      "🔹 Data Scientist (29.88%)\n",
      "🔹 Sr Engineer - Data Science (27.07%)\n",
      "🔹 Data Scientist (26.4%)\n",
      "🔹 Machine Learning Engineer (26.21%)\n"
     ]
    }
   ],
   "source": [
    "print(f\"\\n👤 {resume_df.iloc[-1]['name']} — Top Job Matches:\")\n",
    "for job, score in top_matches:\n",
    "    print(f\"🔹 {job} ({score}%)\")\n"
   ]
  }
 ],
 "metadata": {
  "kernelspec": {
   "display_name": "Python 3",
   "language": "python",
   "name": "python3"
  },
  "language_info": {
   "codemirror_mode": {
    "name": "ipython",
    "version": 3
   },
   "file_extension": ".py",
   "mimetype": "text/x-python",
   "name": "python",
   "nbconvert_exporter": "python",
   "pygments_lexer": "ipython3",
   "version": "3.13.1"
  }
 },
 "nbformat": 4,
 "nbformat_minor": 5
}
